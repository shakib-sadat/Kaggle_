{
 "cells": [
  {
   "cell_type": "markdown",
   "id": "301ae3c0",
   "metadata": {
    "papermill": {
     "duration": 0.005005,
     "end_time": "2023-07-18T16:18:07.889192",
     "exception": false,
     "start_time": "2023-07-18T16:18:07.884187",
     "status": "completed"
    },
    "tags": []
   },
   "source": [
    "**This notebook is an exercise in the [Intro to Deep Learning](https://www.kaggle.com/learn/intro-to-deep-learning) course.  You can reference the tutorial at [this link](https://www.kaggle.com/ryanholbrook/binary-classification).**\n",
    "\n",
    "---\n"
   ]
  },
  {
   "cell_type": "markdown",
   "id": "dc669c58",
   "metadata": {
    "papermill": {
     "duration": 0.004178,
     "end_time": "2023-07-18T16:18:07.897896",
     "exception": false,
     "start_time": "2023-07-18T16:18:07.893718",
     "status": "completed"
    },
    "tags": []
   },
   "source": [
    "# Introduction #\n",
    "\n",
    "In this exercise, you'll build a model to predict hotel cancellations with a binary classifier."
   ]
  },
  {
   "cell_type": "code",
   "execution_count": 1,
   "id": "852d0317",
   "metadata": {
    "execution": {
     "iopub.execute_input": "2023-07-18T16:18:07.908532Z",
     "iopub.status.busy": "2023-07-18T16:18:07.907626Z",
     "iopub.status.idle": "2023-07-18T16:18:07.956371Z",
     "shell.execute_reply": "2023-07-18T16:18:07.955209Z"
    },
    "lines_to_next_cell": 0,
    "papermill": {
     "duration": 0.057457,
     "end_time": "2023-07-18T16:18:07.959510",
     "exception": false,
     "start_time": "2023-07-18T16:18:07.902053",
     "status": "completed"
    },
    "tags": []
   },
   "outputs": [
    {
     "name": "stderr",
     "output_type": "stream",
     "text": [
      "/tmp/ipykernel_23/3338970720.py:3: MatplotlibDeprecationWarning: The seaborn styles shipped by Matplotlib are deprecated since 3.6, as they no longer correspond to the styles shipped by seaborn. However, they will remain available as 'seaborn-v0_8-<style>'. Alternatively, directly use the seaborn API instead.\n",
      "  plt.style.use('seaborn-whitegrid')\n"
     ]
    }
   ],
   "source": [
    "# Setup plotting\n",
    "import matplotlib.pyplot as plt\n",
    "plt.style.use('seaborn-whitegrid')\n",
    "# Set Matplotlib defaults\n",
    "plt.rc('figure', autolayout=True)\n",
    "plt.rc('axes', labelweight='bold', labelsize='large',\n",
    "       titleweight='bold', titlesize=18, titlepad=10)\n",
    "plt.rc('animation', html='html5')\n",
    "\n",
    "# Setup feedback system\n",
    "from learntools.core import binder\n",
    "binder.bind(globals())\n",
    "from learntools.deep_learning_intro.ex6 import *"
   ]
  },
  {
   "cell_type": "markdown",
   "id": "ef56c505",
   "metadata": {
    "papermill": {
     "duration": 0.004205,
     "end_time": "2023-07-18T16:18:07.968221",
     "exception": false,
     "start_time": "2023-07-18T16:18:07.964016",
     "status": "completed"
    },
    "tags": []
   },
   "source": [
    "First, load the *Hotel Cancellations* dataset."
   ]
  },
  {
   "cell_type": "code",
   "execution_count": 2,
   "id": "d67d292b",
   "metadata": {
    "execution": {
     "iopub.execute_input": "2023-07-18T16:18:07.979384Z",
     "iopub.status.busy": "2023-07-18T16:18:07.977996Z",
     "iopub.status.idle": "2023-07-18T16:18:10.703386Z",
     "shell.execute_reply": "2023-07-18T16:18:10.702189Z"
    },
    "lines_to_next_cell": 2,
    "papermill": {
     "duration": 2.738206,
     "end_time": "2023-07-18T16:18:10.710648",
     "exception": false,
     "start_time": "2023-07-18T16:18:07.972442",
     "status": "completed"
    },
    "tags": []
   },
   "outputs": [
    {
     "name": "stderr",
     "output_type": "stream",
     "text": [
      "/opt/conda/lib/python3.10/site-packages/scipy/__init__.py:146: UserWarning: A NumPy version >=1.16.5 and <1.23.0 is required for this version of SciPy (detected version 1.23.5\n",
      "  warnings.warn(f\"A NumPy version >={np_minversion} and <{np_maxversion}\"\n"
     ]
    }
   ],
   "source": [
    "import pandas as pd\n",
    "\n",
    "from sklearn.model_selection import train_test_split\n",
    "from sklearn.preprocessing import StandardScaler, OneHotEncoder\n",
    "from sklearn.impute import SimpleImputer\n",
    "from sklearn.pipeline import make_pipeline\n",
    "from sklearn.compose import make_column_transformer\n",
    "\n",
    "hotel = pd.read_csv('../input/dl-course-data/hotel.csv')\n",
    "\n",
    "X = hotel.copy()\n",
    "y = X.pop('is_canceled')\n",
    "\n",
    "X['arrival_date_month'] = \\\n",
    "    X['arrival_date_month'].map(\n",
    "        {'January':1, 'February': 2, 'March':3,\n",
    "         'April':4, 'May':5, 'June':6, 'July':7,\n",
    "         'August':8, 'September':9, 'October':10,\n",
    "         'November':11, 'December':12}\n",
    "    )\n",
    "\n",
    "features_num = [\n",
    "    \"lead_time\", \"arrival_date_week_number\",\n",
    "    \"arrival_date_day_of_month\", \"stays_in_weekend_nights\",\n",
    "    \"stays_in_week_nights\", \"adults\", \"children\", \"babies\",\n",
    "    \"is_repeated_guest\", \"previous_cancellations\",\n",
    "    \"previous_bookings_not_canceled\", \"required_car_parking_spaces\",\n",
    "    \"total_of_special_requests\", \"adr\",\n",
    "]\n",
    "features_cat = [\n",
    "    \"hotel\", \"arrival_date_month\", \"meal\",\n",
    "    \"market_segment\", \"distribution_channel\",\n",
    "    \"reserved_room_type\", \"deposit_type\", \"customer_type\",\n",
    "]\n",
    "\n",
    "transformer_num = make_pipeline(\n",
    "    SimpleImputer(strategy=\"constant\"), # there are a few missing values\n",
    "    StandardScaler(),\n",
    ")\n",
    "transformer_cat = make_pipeline(\n",
    "    SimpleImputer(strategy=\"constant\", fill_value=\"NA\"),\n",
    "    OneHotEncoder(handle_unknown='ignore'),\n",
    ")\n",
    "\n",
    "preprocessor = make_column_transformer(\n",
    "    (transformer_num, features_num),\n",
    "    (transformer_cat, features_cat),\n",
    ")\n",
    "\n",
    "# stratify - make sure classes are evenlly represented across splits\n",
    "X_train, X_valid, y_train, y_valid = \\\n",
    "    train_test_split(X, y, stratify=y, train_size=0.75)\n",
    "\n",
    "X_train = preprocessor.fit_transform(X_train)\n",
    "X_valid = preprocessor.transform(X_valid)\n",
    "\n",
    "input_shape = [X_train.shape[1]]"
   ]
  },
  {
   "cell_type": "markdown",
   "id": "ec4bcde8",
   "metadata": {
    "papermill": {
     "duration": 0.004459,
     "end_time": "2023-07-18T16:18:10.719896",
     "exception": false,
     "start_time": "2023-07-18T16:18:10.715437",
     "status": "completed"
    },
    "tags": []
   },
   "source": [
    "# 1) Define Model #\n",
    "\n",
    "The model we'll use this time will have both batch normalization and dropout layers. To ease reading we've broken the diagram into blocks, but you can define it layer by layer as usual.\n",
    "\n",
    "Define a model with an architecture given by this diagram:\n",
    "\n",
    "<figure style=\"padding: 1em;\">\n",
    "<img src=\"https://storage.googleapis.com/kaggle-media/learn/images/V04o59Z.png\" width=\"400\" alt=\"Diagram of network architecture: BatchNorm, Dense, BatchNorm, Dropout, Dense, BatchNorm, Dropout, Dense.\">\n",
    "<figcaption style=\"textalign: center; font-style: italic\"><center>Diagram of a binary classifier.</center></figcaption>\n",
    "</figure>\n"
   ]
  },
  {
   "cell_type": "code",
   "execution_count": 3,
   "id": "a6c6ec03",
   "metadata": {
    "execution": {
     "iopub.execute_input": "2023-07-18T16:18:10.730182Z",
     "iopub.status.busy": "2023-07-18T16:18:10.729871Z",
     "iopub.status.idle": "2023-07-18T16:18:21.474010Z",
     "shell.execute_reply": "2023-07-18T16:18:21.473087Z"
    },
    "lines_to_next_cell": 2,
    "papermill": {
     "duration": 10.751753,
     "end_time": "2023-07-18T16:18:21.476066",
     "exception": false,
     "start_time": "2023-07-18T16:18:10.724313",
     "status": "completed"
    },
    "tags": []
   },
   "outputs": [
    {
     "name": "stderr",
     "output_type": "stream",
     "text": [
      "/opt/conda/lib/python3.10/site-packages/tensorflow_io/python/ops/__init__.py:98: UserWarning: unable to load libtensorflow_io_plugins.so: unable to open file: libtensorflow_io_plugins.so, from paths: ['/opt/conda/lib/python3.10/site-packages/tensorflow_io/python/ops/libtensorflow_io_plugins.so']\n",
      "caused by: ['/opt/conda/lib/python3.10/site-packages/tensorflow_io/python/ops/libtensorflow_io_plugins.so: undefined symbol: _ZN3tsl6StatusC1EN10tensorflow5error4CodeESt17basic_string_viewIcSt11char_traitsIcEENS_14SourceLocationE']\n",
      "  warnings.warn(f\"unable to load libtensorflow_io_plugins.so: {e}\")\n",
      "/opt/conda/lib/python3.10/site-packages/tensorflow_io/python/ops/__init__.py:104: UserWarning: file system plugins are not loaded: unable to open file: libtensorflow_io.so, from paths: ['/opt/conda/lib/python3.10/site-packages/tensorflow_io/python/ops/libtensorflow_io.so']\n",
      "caused by: ['/opt/conda/lib/python3.10/site-packages/tensorflow_io/python/ops/libtensorflow_io.so: undefined symbol: _ZTVN10tensorflow13GcsFileSystemE']\n",
      "  warnings.warn(f\"file system plugins are not loaded: {e}\")\n"
     ]
    },
    {
     "data": {
      "application/javascript": [
       "parent.postMessage({\"jupyterEvent\": \"custom.exercise_interaction\", \"data\": {\"outcomeType\": 1, \"valueTowardsCompletion\": 0.3333333333333333, \"interactionType\": 1, \"questionType\": 2, \"questionId\": \"1_Q1\", \"learnToolsVersion\": \"0.3.4\", \"failureMessage\": \"\", \"exceptionClass\": \"\", \"trace\": \"\"}}, \"*\")"
      ],
      "text/plain": [
       "<IPython.core.display.Javascript object>"
      ]
     },
     "metadata": {},
     "output_type": "display_data"
    },
    {
     "data": {
      "text/markdown": [
       "<span style=\"color:#33cc33\">Correct</span>"
      ],
      "text/plain": [
       "Correct"
      ]
     },
     "metadata": {},
     "output_type": "display_data"
    }
   ],
   "source": [
    "from tensorflow import keras\n",
    "from tensorflow.keras import layers\n",
    "\n",
    "# YOUR CODE HERE: define the model given in the diagram\n",
    "model = keras.Sequential([\n",
    "    layers.BatchNormalization(input_shape = input_shape),\n",
    "    layers.Dense(256, activation = 'relu'),\n",
    "    layers.BatchNormalization(),\n",
    "    layers.Dropout(0.3),\n",
    "    layers.Dense(256, activation = 'relu'),\n",
    "    layers.BatchNormalization(),\n",
    "    layers.Dropout(0.3),\n",
    "    layers.Dense(1, activation = 'sigmoid')\n",
    "])\n",
    "\n",
    "# Check your answer\n",
    "q_1.check()"
   ]
  },
  {
   "cell_type": "markdown",
   "id": "e03e3250",
   "metadata": {
    "papermill": {
     "duration": 0.004656,
     "end_time": "2023-07-18T16:18:21.485853",
     "exception": false,
     "start_time": "2023-07-18T16:18:21.481197",
     "status": "completed"
    },
    "tags": []
   },
   "source": [
    "# 2) Add Optimizer, Loss, and Metric #\n",
    "\n",
    "Now compile the model with the Adam optimizer and binary versions of the cross-entropy loss and accuracy metric."
   ]
  },
  {
   "cell_type": "code",
   "execution_count": 4,
   "id": "cc4a9103",
   "metadata": {
    "execution": {
     "iopub.execute_input": "2023-07-18T16:18:21.497480Z",
     "iopub.status.busy": "2023-07-18T16:18:21.496547Z",
     "iopub.status.idle": "2023-07-18T16:18:21.517701Z",
     "shell.execute_reply": "2023-07-18T16:18:21.516597Z"
    },
    "lines_to_next_cell": 0,
    "papermill": {
     "duration": 0.028858,
     "end_time": "2023-07-18T16:18:21.519741",
     "exception": false,
     "start_time": "2023-07-18T16:18:21.490883",
     "status": "completed"
    },
    "tags": []
   },
   "outputs": [
    {
     "data": {
      "application/javascript": [
       "parent.postMessage({\"jupyterEvent\": \"custom.exercise_interaction\", \"data\": {\"outcomeType\": 1, \"valueTowardsCompletion\": 0.3333333333333333, \"interactionType\": 1, \"questionType\": 2, \"questionId\": \"2_Q2\", \"learnToolsVersion\": \"0.3.4\", \"failureMessage\": \"\", \"exceptionClass\": \"\", \"trace\": \"\"}}, \"*\")"
      ],
      "text/plain": [
       "<IPython.core.display.Javascript object>"
      ]
     },
     "metadata": {},
     "output_type": "display_data"
    },
    {
     "data": {
      "text/markdown": [
       "<span style=\"color:#33cc33\">Correct</span>"
      ],
      "text/plain": [
       "Correct"
      ]
     },
     "metadata": {},
     "output_type": "display_data"
    }
   ],
   "source": [
    "# YOUR CODE HERE\n",
    "model.compile(optimizer='adam',\n",
    "    loss='binary_crossentropy',\n",
    "    metrics=['binary_accuracy'])\n",
    "\n",
    "# Check your answer\n",
    "q_2.check()"
   ]
  },
  {
   "cell_type": "code",
   "execution_count": 5,
   "id": "ab688e23",
   "metadata": {
    "execution": {
     "iopub.execute_input": "2023-07-18T16:18:21.530971Z",
     "iopub.status.busy": "2023-07-18T16:18:21.530691Z",
     "iopub.status.idle": "2023-07-18T16:18:21.535973Z",
     "shell.execute_reply": "2023-07-18T16:18:21.535028Z"
    },
    "lines_to_next_cell": 0,
    "papermill": {
     "duration": 0.013384,
     "end_time": "2023-07-18T16:18:21.538088",
     "exception": false,
     "start_time": "2023-07-18T16:18:21.524704",
     "status": "completed"
    },
    "tags": []
   },
   "outputs": [],
   "source": [
    "# Lines below will give you a hint or solution code\n",
    "#q_2.hint()\n",
    "#q_2.solution()"
   ]
  },
  {
   "cell_type": "markdown",
   "id": "0ae811d3",
   "metadata": {
    "papermill": {
     "duration": 0.004997,
     "end_time": "2023-07-18T16:18:21.547978",
     "exception": false,
     "start_time": "2023-07-18T16:18:21.542981",
     "status": "completed"
    },
    "tags": []
   },
   "source": [
    "Finally, run this cell to train the model and view the learning curves. It may run for around 60 to 70 epochs, which could take a minute or two."
   ]
  },
  {
   "cell_type": "code",
   "execution_count": 6,
   "id": "713fc427",
   "metadata": {
    "execution": {
     "iopub.execute_input": "2023-07-18T16:18:21.559046Z",
     "iopub.status.busy": "2023-07-18T16:18:21.558783Z",
     "iopub.status.idle": "2023-07-18T16:19:05.284425Z",
     "shell.execute_reply": "2023-07-18T16:19:05.283527Z"
    },
    "papermill": {
     "duration": 43.733771,
     "end_time": "2023-07-18T16:19:05.286660",
     "exception": false,
     "start_time": "2023-07-18T16:18:21.552889",
     "status": "completed"
    },
    "tags": []
   },
   "outputs": [
    {
     "name": "stdout",
     "output_type": "stream",
     "text": [
      "Epoch 1/200\n",
      "175/175 [==============================] - 7s 7ms/step - loss: 0.4840 - binary_accuracy: 0.7695 - val_loss: 0.4314 - val_binary_accuracy: 0.7999\n",
      "Epoch 2/200\n",
      "175/175 [==============================] - 1s 6ms/step - loss: 0.4247 - binary_accuracy: 0.8010 - val_loss: 0.3999 - val_binary_accuracy: 0.8113\n",
      "Epoch 3/200\n",
      "175/175 [==============================] - 1s 6ms/step - loss: 0.4108 - binary_accuracy: 0.8080 - val_loss: 0.3908 - val_binary_accuracy: 0.8177\n",
      "Epoch 4/200\n",
      "175/175 [==============================] - 1s 6ms/step - loss: 0.4054 - binary_accuracy: 0.8098 - val_loss: 0.3864 - val_binary_accuracy: 0.8190\n",
      "Epoch 5/200\n",
      "175/175 [==============================] - 1s 6ms/step - loss: 0.3996 - binary_accuracy: 0.8134 - val_loss: 0.3830 - val_binary_accuracy: 0.8233\n",
      "Epoch 6/200\n",
      "175/175 [==============================] - 1s 6ms/step - loss: 0.3952 - binary_accuracy: 0.8159 - val_loss: 0.3800 - val_binary_accuracy: 0.8250\n",
      "Epoch 7/200\n",
      "175/175 [==============================] - 1s 6ms/step - loss: 0.3905 - binary_accuracy: 0.8172 - val_loss: 0.3765 - val_binary_accuracy: 0.8284\n",
      "Epoch 8/200\n",
      "175/175 [==============================] - 1s 6ms/step - loss: 0.3880 - binary_accuracy: 0.8201 - val_loss: 0.3741 - val_binary_accuracy: 0.8285\n",
      "Epoch 9/200\n",
      "175/175 [==============================] - 1s 6ms/step - loss: 0.3841 - binary_accuracy: 0.8208 - val_loss: 0.3718 - val_binary_accuracy: 0.8290\n",
      "Epoch 10/200\n",
      "175/175 [==============================] - 1s 6ms/step - loss: 0.3810 - binary_accuracy: 0.8231 - val_loss: 0.3702 - val_binary_accuracy: 0.8309\n",
      "Epoch 11/200\n",
      "175/175 [==============================] - 1s 6ms/step - loss: 0.3783 - binary_accuracy: 0.8247 - val_loss: 0.3661 - val_binary_accuracy: 0.8306\n",
      "Epoch 12/200\n",
      "175/175 [==============================] - 1s 6ms/step - loss: 0.3752 - binary_accuracy: 0.8251 - val_loss: 0.3651 - val_binary_accuracy: 0.8315\n",
      "Epoch 13/200\n",
      "175/175 [==============================] - 1s 6ms/step - loss: 0.3728 - binary_accuracy: 0.8274 - val_loss: 0.3652 - val_binary_accuracy: 0.8325\n",
      "Epoch 14/200\n",
      "175/175 [==============================] - 1s 6ms/step - loss: 0.3722 - binary_accuracy: 0.8290 - val_loss: 0.3631 - val_binary_accuracy: 0.8326\n",
      "Epoch 15/200\n",
      "175/175 [==============================] - 1s 6ms/step - loss: 0.3712 - binary_accuracy: 0.8283 - val_loss: 0.3597 - val_binary_accuracy: 0.8343\n",
      "Epoch 16/200\n",
      "175/175 [==============================] - 1s 7ms/step - loss: 0.3676 - binary_accuracy: 0.8301 - val_loss: 0.3582 - val_binary_accuracy: 0.8355\n",
      "Epoch 17/200\n",
      "175/175 [==============================] - 1s 6ms/step - loss: 0.3672 - binary_accuracy: 0.8294 - val_loss: 0.3574 - val_binary_accuracy: 0.8370\n",
      "Epoch 18/200\n",
      "175/175 [==============================] - 2s 9ms/step - loss: 0.3634 - binary_accuracy: 0.8311 - val_loss: 0.3569 - val_binary_accuracy: 0.8380\n",
      "Epoch 19/200\n",
      "175/175 [==============================] - 1s 6ms/step - loss: 0.3606 - binary_accuracy: 0.8329 - val_loss: 0.3550 - val_binary_accuracy: 0.8370\n",
      "Epoch 20/200\n",
      "175/175 [==============================] - 1s 6ms/step - loss: 0.3599 - binary_accuracy: 0.8331 - val_loss: 0.3547 - val_binary_accuracy: 0.8358\n",
      "Epoch 21/200\n",
      "175/175 [==============================] - 1s 6ms/step - loss: 0.3590 - binary_accuracy: 0.8338 - val_loss: 0.3562 - val_binary_accuracy: 0.8347\n",
      "Epoch 22/200\n",
      "175/175 [==============================] - 1s 6ms/step - loss: 0.3585 - binary_accuracy: 0.8343 - val_loss: 0.3540 - val_binary_accuracy: 0.8374\n",
      "Epoch 23/200\n",
      "175/175 [==============================] - 1s 6ms/step - loss: 0.3569 - binary_accuracy: 0.8348 - val_loss: 0.3522 - val_binary_accuracy: 0.8382\n",
      "Epoch 24/200\n",
      "175/175 [==============================] - 1s 6ms/step - loss: 0.3547 - binary_accuracy: 0.8346 - val_loss: 0.3535 - val_binary_accuracy: 0.8375\n",
      "Epoch 25/200\n",
      "175/175 [==============================] - 1s 7ms/step - loss: 0.3546 - binary_accuracy: 0.8358 - val_loss: 0.3519 - val_binary_accuracy: 0.8385\n",
      "Epoch 26/200\n",
      "175/175 [==============================] - 1s 6ms/step - loss: 0.3527 - binary_accuracy: 0.8375 - val_loss: 0.3490 - val_binary_accuracy: 0.8395\n",
      "Epoch 27/200\n",
      "175/175 [==============================] - 1s 6ms/step - loss: 0.3515 - binary_accuracy: 0.8373 - val_loss: 0.3512 - val_binary_accuracy: 0.8380\n",
      "Epoch 28/200\n",
      "175/175 [==============================] - 1s 6ms/step - loss: 0.3508 - binary_accuracy: 0.8390 - val_loss: 0.3500 - val_binary_accuracy: 0.8394\n",
      "Epoch 29/200\n",
      "175/175 [==============================] - 1s 6ms/step - loss: 0.3511 - binary_accuracy: 0.8376 - val_loss: 0.3501 - val_binary_accuracy: 0.8390\n",
      "Epoch 30/200\n",
      "175/175 [==============================] - 1s 6ms/step - loss: 0.3489 - binary_accuracy: 0.8381 - val_loss: 0.3496 - val_binary_accuracy: 0.8392\n",
      "Epoch 31/200\n",
      "175/175 [==============================] - 1s 6ms/step - loss: 0.3464 - binary_accuracy: 0.8396 - val_loss: 0.3498 - val_binary_accuracy: 0.8378\n"
     ]
    },
    {
     "data": {
      "text/plain": [
       "<Axes: title={'center': 'Accuracy'}>"
      ]
     },
     "execution_count": 6,
     "metadata": {},
     "output_type": "execute_result"
    },
    {
     "data": {
      "image/png": "[encoded data removed]",
      "text/plain": [
       "<Figure size 640x480 with 1 Axes>"
      ]
     },
     "metadata": {},
     "output_type": "display_data"
    },
    {
     "data": {
      "image/png": "[encoded data removed]",
      "text/plain": [
       "<Figure size 640x480 with 1 Axes>"
      ]
     },
     "metadata": {},
     "output_type": "display_data"
    }
   ],
   "source": [
    "early_stopping = keras.callbacks.EarlyStopping(\n",
    "    patience=5,\n",
    "    min_delta=0.001,\n",
    "    restore_best_weights=True,\n",
    ")\n",
    "history = model.fit(\n",
    "    X_train, y_train,\n",
    "    validation_data=(X_valid, y_valid),\n",
    "    batch_size=512,\n",
    "    epochs=200,\n",
    "    callbacks=[early_stopping],\n",
    ")\n",
    "\n",
    "history_df = pd.DataFrame(history.history)\n",
    "history_df.loc[:, ['loss', 'val_loss']].plot(title=\"Cross-entropy\")\n",
    "history_df.loc[:, ['binary_accuracy', 'val_binary_accuracy']].plot(title=\"Accuracy\")"
   ]
  },
  {
   "cell_type": "markdown",
   "id": "20e03ab4",
   "metadata": {
    "papermill": {
     "duration": 0.053175,
     "end_time": "2023-07-18T16:19:05.393873",
     "exception": false,
     "start_time": "2023-07-18T16:19:05.340698",
     "status": "completed"
    },
    "tags": []
   },
   "source": [
    "# 3) Train and Evaluate #\n",
    "\n",
    "\n",
    "What do you think about the learning curves? Does it look like the model underfit or overfit? Was the cross-entropy loss a good stand-in for accuracy?"
   ]
  },
  {
   "cell_type": "code",
   "execution_count": 7,
   "id": "d6f0313d",
   "metadata": {
    "execution": {
     "iopub.execute_input": "2023-07-18T16:19:05.503709Z",
     "iopub.status.busy": "2023-07-18T16:19:05.502569Z",
     "iopub.status.idle": "2023-07-18T16:19:05.512888Z",
     "shell.execute_reply": "2023-07-18T16:19:05.510568Z"
    },
    "papermill": {
     "duration": 0.067286,
     "end_time": "2023-07-18T16:19:05.515044",
     "exception": false,
     "start_time": "2023-07-18T16:19:05.447758",
     "status": "completed"
    },
    "tags": []
   },
   "outputs": [
    {
     "data": {
      "application/javascript": [
       "parent.postMessage({\"jupyterEvent\": \"custom.exercise_interaction\", \"data\": {\"outcomeType\": 1, \"valueTowardsCompletion\": 0.3333333333333333, \"interactionType\": 1, \"questionType\": 4, \"questionId\": \"3_Q3\", \"learnToolsVersion\": \"0.3.4\", \"failureMessage\": \"\", \"exceptionClass\": \"\", \"trace\": \"\"}}, \"*\")"
      ],
      "text/plain": [
       "<IPython.core.display.Javascript object>"
      ]
     },
     "metadata": {},
     "output_type": "display_data"
    },
    {
     "data": {
      "text/markdown": [
       "<span style=\"color:#33cc33\">Correct:</span> \n",
       "\n",
       "Though we can see the training loss continuing to fall, the early stopping callback prevented any overfitting. Moreover, the accuracy rose at the same rate as the cross-entropy fell, so it appears that minimizing cross-entropy was a good stand-in. All in all, it looks like this training was a success!"
      ],
      "text/plain": [
       "Correct: \n",
       "\n",
       "Though we can see the training loss continuing to fall, the early stopping callback prevented any overfitting. Moreover, the accuracy rose at the same rate as the cross-entropy fell, so it appears that minimizing cross-entropy was a good stand-in. All in all, it looks like this training was a success!"
      ]
     },
     "metadata": {},
     "output_type": "display_data"
    }
   ],
   "source": [
    "# View the solution (Run this cell to receive credit!)\n",
    "q_3.check()"
   ]
  },
  {
   "cell_type": "markdown",
   "id": "747d3a12",
   "metadata": {
    "papermill": {
     "duration": 0.053329,
     "end_time": "2023-07-18T16:19:05.622200",
     "exception": false,
     "start_time": "2023-07-18T16:19:05.568871",
     "status": "completed"
    },
    "tags": []
   },
   "source": [
    "# Conclusion #\n",
    "\n",
    "Congratulations! You've completed Kaggle's *Introduction to Deep Learning* course!\n",
    "\n",
    "With your new skills you're ready to take on more advanced applications like computer vision and sentiment classification. What would you like to do next?\n",
    "\n",
    "Why not try one of our *Getting Started* competitions?\n",
    "\n",
    "- Classify images with TPUs in [**Petals to the Metal**](https://www.kaggle.com/c/tpu-getting-started)\n",
    "- Create art with GANs in [**I'm Something of a Painter Myself**](https://www.kaggle.com/c/gan-getting-started)\n",
    "- Classify Tweets in [**Real or Not? NLP with Disaster Tweets**](https://www.kaggle.com/c/nlp-getting-started)\n",
    "- Detect contradiction and entailment in [**Contradictory, My Dear Watson**](https://www.kaggle.com/c/contradictory-my-dear-watson)\n",
    "\n",
    "Until next time, Kagglers!"
   ]
  },
  {
   "cell_type": "markdown",
   "id": "78eac7d8",
   "metadata": {
    "papermill": {
     "duration": 0.053025,
     "end_time": "2023-07-18T16:19:05.728724",
     "exception": false,
     "start_time": "2023-07-18T16:19:05.675699",
     "status": "completed"
    },
    "tags": []
   },
   "source": [
    "---\n",
    "\n",
    "\n",
    "\n",
    "\n",
    "*Have questions or comments? Visit the [course discussion forum](https://www.kaggle.com/learn/intro-to-deep-learning/discussion) to chat with other learners.*"
   ]
  }
 ],
 "metadata": {
  "kernelspec": {
   "display_name": "Python 3",
   "language": "python",
   "name": "python3"
  },
  "language_info": {
   "codemirror_mode": {
    "name": "ipython",
    "version": 3
   },
   "file_extension": ".py",
   "mimetype": "text/x-python",
   "name": "python",
   "nbconvert_exporter": "python",
   "pygments_lexer": "ipython3",
   "version": "3.10.12"
  },
  "papermill": {
   "default_parameters": {},
   "duration": 70.785835,
   "end_time": "2023-07-18T16:19:08.430668",
   "environment_variables": {},
   "exception": null,
   "input_path": "__notebook__.ipynb",
   "output_path": "__notebook__.ipynb",
   "parameters": {},
   "start_time": "2023-07-18T16:17:57.644833",
   "version": "2.4.0"
  }
 },
 "nbformat": 4,
 "nbformat_minor": 5
}
