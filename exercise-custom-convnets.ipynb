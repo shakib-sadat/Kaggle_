{
 "cells": [
  {
   "cell_type": "markdown",
   "id": "f24dec49",
   "metadata": {
    "papermill": {
     "duration": 0.006874,
     "end_time": "2023-08-02T15:08:15.197255",
     "exception": false,
     "start_time": "2023-08-02T15:08:15.190381",
     "status": "completed"
    },
    "tags": []
   },
   "source": [
    "**This notebook is an exercise in the [Computer Vision](https://www.kaggle.com/learn/computer-vision) course.  You can reference the tutorial at [this link](https://www.kaggle.com/ryanholbrook/custom-convnets).**\n",
    "\n",
    "---\n"
   ]
  },
  {
   "cell_type": "markdown",
   "id": "b745d810",
   "metadata": {
    "papermill": {
     "duration": 0.004317,
     "end_time": "2023-08-02T15:08:15.206213",
     "exception": false,
     "start_time": "2023-08-02T15:08:15.201896",
     "status": "completed"
    },
    "tags": []
   },
   "source": [
    "# Introduction #\n",
    "\n",
    "In these exercises, you'll build a custom convnet with performance competitive to the VGG16 model from Lesson 1.\n",
    "\n",
    "Get started by running the code cell below."
   ]
  },
  {
   "cell_type": "code",
   "execution_count": 1,
   "id": "40db1f49",
   "metadata": {
    "execution": {
     "iopub.execute_input": "2023-08-02T15:08:15.217486Z",
     "iopub.status.busy": "2023-08-02T15:08:15.216481Z",
     "iopub.status.idle": "2023-08-02T15:08:31.583043Z",
     "shell.execute_reply": "2023-08-02T15:08:31.582087Z"
    },
    "papermill": {
     "duration": 16.374967,
     "end_time": "2023-08-02T15:08:31.585590",
     "exception": false,
     "start_time": "2023-08-02T15:08:15.210623",
     "status": "completed"
    },
    "tags": []
   },
   "outputs": [
    {
     "name": "stderr",
     "output_type": "stream",
     "text": [
      "/opt/conda/lib/python3.10/site-packages/scipy/__init__.py:146: UserWarning: A NumPy version >=1.16.5 and <1.23.0 is required for this version of SciPy (detected version 1.23.5\n",
      "  warnings.warn(f\"A NumPy version >={np_minversion} and <{np_maxversion}\"\n",
      "/opt/conda/lib/python3.10/site-packages/tensorflow_io/python/ops/__init__.py:98: UserWarning: unable to load libtensorflow_io_plugins.so: unable to open file: libtensorflow_io_plugins.so, from paths: ['/opt/conda/lib/python3.10/site-packages/tensorflow_io/python/ops/libtensorflow_io_plugins.so']\n",
      "caused by: ['/opt/conda/lib/python3.10/site-packages/tensorflow_io/python/ops/libtensorflow_io_plugins.so: undefined symbol: _ZN3tsl6StatusC1EN10tensorflow5error4CodeESt17basic_string_viewIcSt11char_traitsIcEENS_14SourceLocationE']\n",
      "  warnings.warn(f\"unable to load libtensorflow_io_plugins.so: {e}\")\n",
      "/opt/conda/lib/python3.10/site-packages/tensorflow_io/python/ops/__init__.py:104: UserWarning: file system plugins are not loaded: unable to open file: libtensorflow_io.so, from paths: ['/opt/conda/lib/python3.10/site-packages/tensorflow_io/python/ops/libtensorflow_io.so']\n",
      "caused by: ['/opt/conda/lib/python3.10/site-packages/tensorflow_io/python/ops/libtensorflow_io.so: undefined symbol: _ZTVN10tensorflow13GcsFileSystemE']\n",
      "  warnings.warn(f\"file system plugins are not loaded: {e}\")\n"
     ]
    },
    {
     "name": "stdout",
     "output_type": "stream",
     "text": [
      "Found 5117 files belonging to 2 classes.\n",
      "Found 5051 files belonging to 2 classes.\n"
     ]
    }
   ],
   "source": [
    "# Setup feedback system\n",
    "from learntools.core import binder\n",
    "binder.bind(globals())\n",
    "from learntools.computer_vision.ex5 import *\n",
    "\n",
    "# Imports\n",
    "import os, warnings\n",
    "import matplotlib.pyplot as plt\n",
    "from matplotlib import gridspec\n",
    "\n",
    "import numpy as np\n",
    "import tensorflow as tf\n",
    "from tensorflow.keras.preprocessing import image_dataset_from_directory\n",
    "\n",
    "# Reproducability\n",
    "def set_seed(seed=31415):\n",
    "    np.random.seed(seed)\n",
    "    tf.random.set_seed(seed)\n",
    "    os.environ['PYTHONHASHSEED'] = str(seed)\n",
    "    os.environ['TF_DETERMINISTIC_OPS'] = '1'\n",
    "set_seed()\n",
    "\n",
    "# Set Matplotlib defaults\n",
    "plt.rc('figure', autolayout=True)\n",
    "plt.rc('axes', labelweight='bold', labelsize='large',\n",
    "       titleweight='bold', titlesize=18, titlepad=10)\n",
    "plt.rc('image', cmap='magma')\n",
    "warnings.filterwarnings(\"ignore\") # to clean up output cells\n",
    "\n",
    "\n",
    "# Load training and validation sets\n",
    "ds_train_ = image_dataset_from_directory(\n",
    "    '../input/car-or-truck/train',\n",
    "    labels='inferred',\n",
    "    label_mode='binary',\n",
    "    image_size=[128, 128],\n",
    "    interpolation='nearest',\n",
    "    batch_size=64,\n",
    "    shuffle=True,\n",
    ")\n",
    "ds_valid_ = image_dataset_from_directory(\n",
    "    '../input/car-or-truck/valid',\n",
    "    labels='inferred',\n",
    "    label_mode='binary',\n",
    "    image_size=[128, 128],\n",
    "    interpolation='nearest',\n",
    "    batch_size=64,\n",
    "    shuffle=False,\n",
    ")\n",
    "\n",
    "# Data Pipeline\n",
    "def convert_to_float(image, label):\n",
    "    image = tf.image.convert_image_dtype(image, dtype=tf.float32)\n",
    "    return image, label\n",
    "\n",
    "AUTOTUNE = tf.data.experimental.AUTOTUNE\n",
    "ds_train = (\n",
    "    ds_train_\n",
    "    .map(convert_to_float)\n",
    "    .cache()\n",
    "    .prefetch(buffer_size=AUTOTUNE)\n",
    ")\n",
    "ds_valid = (\n",
    "    ds_valid_\n",
    "    .map(convert_to_float)\n",
    "    .cache()\n",
    "    .prefetch(buffer_size=AUTOTUNE)\n",
    ")\n"
   ]
  },
  {
   "cell_type": "markdown",
   "id": "157c3348",
   "metadata": {
    "papermill": {
     "duration": 0.004902,
     "end_time": "2023-08-02T15:08:31.595736",
     "exception": false,
     "start_time": "2023-08-02T15:08:31.590834",
     "status": "completed"
    },
    "tags": []
   },
   "source": [
    "# Design a Convnet #\n",
    "\n",
    "Let's design a convolutional network with a block architecture like we saw in the tutorial. The model from the example had three blocks, each with a single convolutional layer. Its performance on the \"Car or Truck\" problem was okay, but far from what the pretrained VGG16 could achieve. It might be that our simple network lacks the ability to extract sufficiently complex features. We could try improving the model either by adding more blocks or by adding convolutions to the blocks we have.\n",
    "\n",
    "Let's go with the second approach. We'll keep the three block structure, but increase the number of `Conv2D` layer in the second block to two, and in the third block to three.\n",
    "\n",
    "<figure>\n",
    "<!-- <img src=\"./images/2-convmodel-2.png\" width=\"250\" alt=\"Diagram of a convolutional model.\"> -->\n",
    "<img src=\"https://storage.googleapis.com/kaggle-media/learn/images/Vko6nCK.png\" width=\"250\" alt=\"Diagram of a convolutional model.\">\n",
    "</figure>\n",
    "\n",
    "# 1) Define Model #\n",
    "\n",
    "Given the diagram above, complete the model by defining the layers of the third block."
   ]
  },
  {
   "cell_type": "code",
   "execution_count": 2,
   "id": "1202531a",
   "metadata": {
    "execution": {
     "iopub.execute_input": "2023-08-02T15:08:31.607504Z",
     "iopub.status.busy": "2023-08-02T15:08:31.606663Z",
     "iopub.status.idle": "2023-08-02T15:08:31.757894Z",
     "shell.execute_reply": "2023-08-02T15:08:31.756982Z"
    },
    "lines_to_next_cell": 0,
    "papermill": {
     "duration": 0.159336,
     "end_time": "2023-08-02T15:08:31.759982",
     "exception": false,
     "start_time": "2023-08-02T15:08:31.600646",
     "status": "completed"
    },
    "tags": []
   },
   "outputs": [
    {
     "data": {
      "application/javascript": [
       "parent.postMessage({\"jupyterEvent\": \"custom.exercise_interaction\", \"data\": {\"outcomeType\": 1, \"valueTowardsCompletion\": 0.3333333333333333, \"interactionType\": 1, \"questionType\": 2, \"questionId\": \"1_Q1\", \"learnToolsVersion\": \"0.3.4\", \"failureMessage\": \"\", \"exceptionClass\": \"\", \"trace\": \"\"}}, \"*\")"
      ],
      "text/plain": [
       "<IPython.core.display.Javascript object>"
      ]
     },
     "metadata": {},
     "output_type": "display_data"
    },
    {
     "data": {
      "text/markdown": [
       "<span style=\"color:#33cc33\">Correct</span>"
      ],
      "text/plain": [
       "Correct"
      ]
     },
     "metadata": {},
     "output_type": "display_data"
    }
   ],
   "source": [
    "from tensorflow import keras\n",
    "from tensorflow.keras import layers\n",
    "\n",
    "model = keras.Sequential([\n",
    "    # Block One\n",
    "    layers.Conv2D(filters=32, kernel_size=3, activation='relu', padding='same',\n",
    "                  input_shape=[128, 128, 3]),\n",
    "    layers.MaxPool2D(),\n",
    "\n",
    "    # Block Two\n",
    "    layers.Conv2D(filters=64, kernel_size=3, activation='relu', padding='same'),\n",
    "    layers.MaxPool2D(),\n",
    "\n",
    "    # YOUR CODE HERE\n",
    "    # Block Three\n",
    "    layers.Conv2D(filters=128, kernel_size=3, activation='relu', padding='same'),\n",
    "    layers.Conv2D(filters=128, kernel_size=3, activation='relu', padding='same'),\n",
    "    layers.MaxPool2D(),\n",
    "   \n",
    "\n",
    "    # Head\n",
    "    layers.Flatten(),\n",
    "    layers.Dense(6, activation='relu'),\n",
    "    layers.Dropout(0.2),\n",
    "    layers.Dense(1, activation='sigmoid'),\n",
    "])\n",
    "\n",
    "# Check your answer\n",
    "q_1.check()"
   ]
  },
  {
   "cell_type": "code",
   "execution_count": 3,
   "id": "8eedc158",
   "metadata": {
    "execution": {
     "iopub.execute_input": "2023-08-02T15:08:31.772241Z",
     "iopub.status.busy": "2023-08-02T15:08:31.771494Z",
     "iopub.status.idle": "2023-08-02T15:08:31.776847Z",
     "shell.execute_reply": "2023-08-02T15:08:31.775967Z"
    },
    "papermill": {
     "duration": 0.013905,
     "end_time": "2023-08-02T15:08:31.779157",
     "exception": false,
     "start_time": "2023-08-02T15:08:31.765252",
     "status": "completed"
    },
    "tags": []
   },
   "outputs": [],
   "source": [
    "# Lines below will give you a hint or solution code\n",
    "#q_1.hint()\n",
    "#q_1.solution()"
   ]
  },
  {
   "cell_type": "markdown",
   "id": "089c131d",
   "metadata": {
    "papermill": {
     "duration": 0.005022,
     "end_time": "2023-08-02T15:08:31.790052",
     "exception": false,
     "start_time": "2023-08-02T15:08:31.785030",
     "status": "completed"
    },
    "tags": []
   },
   "source": [
    "# 2) Compile #\n",
    "\n",
    "To prepare for training, compile the model with an appropriate loss and accuracy metric for the \"Car or Truck\" dataset."
   ]
  },
  {
   "cell_type": "code",
   "execution_count": 4,
   "id": "3df32ae7",
   "metadata": {
    "execution": {
     "iopub.execute_input": "2023-08-02T15:08:31.801979Z",
     "iopub.status.busy": "2023-08-02T15:08:31.801649Z",
     "iopub.status.idle": "2023-08-02T15:08:31.822798Z",
     "shell.execute_reply": "2023-08-02T15:08:31.821768Z"
    },
    "lines_to_next_cell": 0,
    "papermill": {
     "duration": 0.030552,
     "end_time": "2023-08-02T15:08:31.825908",
     "exception": false,
     "start_time": "2023-08-02T15:08:31.795356",
     "status": "completed"
    },
    "tags": []
   },
   "outputs": [
    {
     "data": {
      "application/javascript": [
       "parent.postMessage({\"jupyterEvent\": \"custom.exercise_interaction\", \"data\": {\"outcomeType\": 1, \"valueTowardsCompletion\": 0.3333333333333333, \"interactionType\": 1, \"questionType\": 2, \"questionId\": \"2_Q2\", \"learnToolsVersion\": \"0.3.4\", \"failureMessage\": \"\", \"exceptionClass\": \"\", \"trace\": \"\"}}, \"*\")"
      ],
      "text/plain": [
       "<IPython.core.display.Javascript object>"
      ]
     },
     "metadata": {},
     "output_type": "display_data"
    },
    {
     "data": {
      "text/markdown": [
       "<span style=\"color:#33cc33\">Correct</span>"
      ],
      "text/plain": [
       "Correct"
      ]
     },
     "metadata": {},
     "output_type": "display_data"
    }
   ],
   "source": [
    "model.compile(\n",
    "    optimizer=tf.keras.optimizers.Adam(epsilon=0.01),\n",
    "    # YOUR CODE HERE: Add loss and metric\n",
    "    loss = 'binary_crossentropy',\n",
    "    metrics = ['binary_accuracy']\n",
    ")\n",
    "\n",
    "# Check your answer\n",
    "q_2.check()"
   ]
  },
  {
   "cell_type": "code",
   "execution_count": 5,
   "id": "cb00aeaa",
   "metadata": {
    "execution": {
     "iopub.execute_input": "2023-08-02T15:08:31.838189Z",
     "iopub.status.busy": "2023-08-02T15:08:31.837883Z",
     "iopub.status.idle": "2023-08-02T15:08:31.852611Z",
     "shell.execute_reply": "2023-08-02T15:08:31.851586Z"
    },
    "lines_to_next_cell": 0,
    "papermill": {
     "duration": 0.024159,
     "end_time": "2023-08-02T15:08:31.855605",
     "exception": false,
     "start_time": "2023-08-02T15:08:31.831446",
     "status": "completed"
    },
    "tags": []
   },
   "outputs": [
    {
     "data": {
      "application/javascript": [
       "parent.postMessage({\"jupyterEvent\": \"custom.exercise_interaction\", \"data\": {\"outcomeType\": 1, \"valueTowardsCompletion\": 0.3333333333333333, \"interactionType\": 1, \"questionType\": 2, \"questionId\": \"2_Q2\", \"learnToolsVersion\": \"0.3.4\", \"failureMessage\": \"\", \"exceptionClass\": \"\", \"trace\": \"\"}}, \"*\")"
      ],
      "text/plain": [
       "<IPython.core.display.Javascript object>"
      ]
     },
     "metadata": {},
     "output_type": "display_data"
    },
    {
     "data": {
      "text/markdown": [
       "<span style=\"color:#33cc33\">Correct</span>"
      ],
      "text/plain": [
       "Correct"
      ]
     },
     "metadata": {},
     "output_type": "display_data"
    }
   ],
   "source": [
    "model.compile(\n",
    "    optimizer=tf.keras.optimizers.Adam(epsilon=0.01),\n",
    "    loss='binary_crossentropy',\n",
    "    metrics=['binary_accuracy'],\n",
    ")\n",
    "q_2.assert_check_passed()"
   ]
  },
  {
   "cell_type": "code",
   "execution_count": 6,
   "id": "5c52dc65",
   "metadata": {
    "execution": {
     "iopub.execute_input": "2023-08-02T15:08:31.868523Z",
     "iopub.status.busy": "2023-08-02T15:08:31.868242Z",
     "iopub.status.idle": "2023-08-02T15:08:31.872066Z",
     "shell.execute_reply": "2023-08-02T15:08:31.871128Z"
    },
    "lines_to_next_cell": 0,
    "papermill": {
     "duration": 0.012915,
     "end_time": "2023-08-02T15:08:31.874339",
     "exception": false,
     "start_time": "2023-08-02T15:08:31.861424",
     "status": "completed"
    },
    "tags": []
   },
   "outputs": [],
   "source": [
    "# Lines below will give you a hint or solution code\n",
    "#q_2.hint()\n",
    "#q_2.solution()"
   ]
  },
  {
   "cell_type": "markdown",
   "id": "1a46c574",
   "metadata": {
    "papermill": {
     "duration": 0.005573,
     "end_time": "2023-08-02T15:08:31.885853",
     "exception": false,
     "start_time": "2023-08-02T15:08:31.880280",
     "status": "completed"
    },
    "tags": []
   },
   "source": [
    "Finally, let's test the performance of this new model. First run this cell to fit the model to the training set."
   ]
  },
  {
   "cell_type": "code",
   "execution_count": 7,
   "id": "74b8e958",
   "metadata": {
    "execution": {
     "iopub.execute_input": "2023-08-02T15:08:31.899233Z",
     "iopub.status.busy": "2023-08-02T15:08:31.898902Z",
     "iopub.status.idle": "2023-08-02T15:12:08.285820Z",
     "shell.execute_reply": "2023-08-02T15:12:08.284761Z"
    },
    "papermill": {
     "duration": 216.396511,
     "end_time": "2023-08-02T15:12:08.288184",
     "exception": false,
     "start_time": "2023-08-02T15:08:31.891673",
     "status": "completed"
    },
    "tags": []
   },
   "outputs": [
    {
     "name": "stdout",
     "output_type": "stream",
     "text": [
      "Epoch 1/50\n",
      "80/80 [==============================] - 43s 409ms/step - loss: 0.6782 - binary_accuracy: 0.5622 - val_loss: 0.6644 - val_binary_accuracy: 0.5999\n",
      "Epoch 2/50\n",
      "80/80 [==============================] - 3s 39ms/step - loss: 0.6596 - binary_accuracy: 0.6060 - val_loss: 0.6484 - val_binary_accuracy: 0.6302\n",
      "Epoch 3/50\n",
      "80/80 [==============================] - 3s 40ms/step - loss: 0.6492 - binary_accuracy: 0.6217 - val_loss: 0.6385 - val_binary_accuracy: 0.6337\n",
      "Epoch 4/50\n",
      "80/80 [==============================] - 3s 39ms/step - loss: 0.6392 - binary_accuracy: 0.6283 - val_loss: 0.6298 - val_binary_accuracy: 0.6450\n",
      "Epoch 5/50\n",
      "80/80 [==============================] - 3s 41ms/step - loss: 0.6283 - binary_accuracy: 0.6474 - val_loss: 0.6182 - val_binary_accuracy: 0.6555\n",
      "Epoch 6/50\n",
      "80/80 [==============================] - 3s 40ms/step - loss: 0.6178 - binary_accuracy: 0.6602 - val_loss: 0.6179 - val_binary_accuracy: 0.6549\n",
      "Epoch 7/50\n",
      "80/80 [==============================] - 3s 40ms/step - loss: 0.6041 - binary_accuracy: 0.6723 - val_loss: 0.6008 - val_binary_accuracy: 0.6749\n",
      "Epoch 8/50\n",
      "80/80 [==============================] - 3s 39ms/step - loss: 0.5976 - binary_accuracy: 0.6822 - val_loss: 0.5860 - val_binary_accuracy: 0.6854\n",
      "Epoch 9/50\n",
      "80/80 [==============================] - 3s 39ms/step - loss: 0.5870 - binary_accuracy: 0.6945 - val_loss: 0.5877 - val_binary_accuracy: 0.6870\n",
      "Epoch 10/50\n",
      "80/80 [==============================] - 3s 39ms/step - loss: 0.5693 - binary_accuracy: 0.7086 - val_loss: 0.5756 - val_binary_accuracy: 0.6910\n",
      "Epoch 11/50\n",
      "80/80 [==============================] - 3s 40ms/step - loss: 0.5604 - binary_accuracy: 0.7182 - val_loss: 0.5748 - val_binary_accuracy: 0.7003\n",
      "Epoch 12/50\n",
      "80/80 [==============================] - 3s 40ms/step - loss: 0.5368 - binary_accuracy: 0.7336 - val_loss: 0.5432 - val_binary_accuracy: 0.7264\n",
      "Epoch 13/50\n",
      "80/80 [==============================] - 3s 40ms/step - loss: 0.5108 - binary_accuracy: 0.7581 - val_loss: 0.5104 - val_binary_accuracy: 0.7482\n",
      "Epoch 14/50\n",
      "80/80 [==============================] - 3s 40ms/step - loss: 0.4839 - binary_accuracy: 0.7737 - val_loss: 0.4882 - val_binary_accuracy: 0.7646\n",
      "Epoch 15/50\n",
      "80/80 [==============================] - 3s 40ms/step - loss: 0.4597 - binary_accuracy: 0.7942 - val_loss: 0.4711 - val_binary_accuracy: 0.7739\n",
      "Epoch 16/50\n",
      "80/80 [==============================] - 3s 39ms/step - loss: 0.4292 - binary_accuracy: 0.8098 - val_loss: 0.4580 - val_binary_accuracy: 0.7884\n",
      "Epoch 17/50\n",
      "80/80 [==============================] - 3s 39ms/step - loss: 0.3993 - binary_accuracy: 0.8233 - val_loss: 0.4431 - val_binary_accuracy: 0.7947\n",
      "Epoch 18/50\n",
      "80/80 [==============================] - 3s 40ms/step - loss: 0.3766 - binary_accuracy: 0.8313 - val_loss: 0.4251 - val_binary_accuracy: 0.8010\n",
      "Epoch 19/50\n",
      "80/80 [==============================] - 3s 39ms/step - loss: 0.3353 - binary_accuracy: 0.8530 - val_loss: 0.4129 - val_binary_accuracy: 0.8198\n",
      "Epoch 20/50\n",
      "80/80 [==============================] - 3s 40ms/step - loss: 0.3207 - binary_accuracy: 0.8616 - val_loss: 0.4162 - val_binary_accuracy: 0.8165\n",
      "Epoch 21/50\n",
      "80/80 [==============================] - 3s 39ms/step - loss: 0.3005 - binary_accuracy: 0.8661 - val_loss: 0.4992 - val_binary_accuracy: 0.7779\n",
      "Epoch 22/50\n",
      "80/80 [==============================] - 3s 41ms/step - loss: 0.2659 - binary_accuracy: 0.8878 - val_loss: 0.4312 - val_binary_accuracy: 0.8181\n",
      "Epoch 23/50\n",
      "80/80 [==============================] - 3s 40ms/step - loss: 0.2481 - binary_accuracy: 0.8927 - val_loss: 0.4530 - val_binary_accuracy: 0.8095\n",
      "Epoch 24/50\n",
      "80/80 [==============================] - 3s 39ms/step - loss: 0.2265 - binary_accuracy: 0.8992 - val_loss: 0.4207 - val_binary_accuracy: 0.8317\n",
      "Epoch 25/50\n",
      "80/80 [==============================] - 3s 39ms/step - loss: 0.2247 - binary_accuracy: 0.9027 - val_loss: 0.4397 - val_binary_accuracy: 0.8388\n",
      "Epoch 26/50\n",
      "80/80 [==============================] - 3s 40ms/step - loss: 0.1827 - binary_accuracy: 0.9214 - val_loss: 0.4437 - val_binary_accuracy: 0.8335\n",
      "Epoch 27/50\n",
      "80/80 [==============================] - 3s 39ms/step - loss: 0.1874 - binary_accuracy: 0.9183 - val_loss: 0.4370 - val_binary_accuracy: 0.8311\n",
      "Epoch 28/50\n",
      "80/80 [==============================] - 3s 39ms/step - loss: 0.2027 - binary_accuracy: 0.9121 - val_loss: 0.4966 - val_binary_accuracy: 0.8293\n",
      "Epoch 29/50\n",
      "80/80 [==============================] - 3s 40ms/step - loss: 0.1694 - binary_accuracy: 0.9275 - val_loss: 0.4872 - val_binary_accuracy: 0.8450\n",
      "Epoch 30/50\n",
      "80/80 [==============================] - 3s 39ms/step - loss: 0.1372 - binary_accuracy: 0.9406 - val_loss: 0.6020 - val_binary_accuracy: 0.8242\n",
      "Epoch 31/50\n",
      "80/80 [==============================] - 3s 40ms/step - loss: 0.1435 - binary_accuracy: 0.9353 - val_loss: 0.6801 - val_binary_accuracy: 0.8099\n",
      "Epoch 32/50\n",
      "80/80 [==============================] - 3s 40ms/step - loss: 0.1532 - binary_accuracy: 0.9345 - val_loss: 0.5795 - val_binary_accuracy: 0.8228\n",
      "Epoch 33/50\n",
      "80/80 [==============================] - 3s 39ms/step - loss: 0.1275 - binary_accuracy: 0.9451 - val_loss: 0.6186 - val_binary_accuracy: 0.8024\n",
      "Epoch 34/50\n",
      "80/80 [==============================] - 3s 39ms/step - loss: 0.1170 - binary_accuracy: 0.9496 - val_loss: 0.5464 - val_binary_accuracy: 0.8357\n",
      "Epoch 35/50\n",
      "80/80 [==============================] - 3s 40ms/step - loss: 0.1089 - binary_accuracy: 0.9502 - val_loss: 0.5656 - val_binary_accuracy: 0.8260\n",
      "Epoch 36/50\n",
      "80/80 [==============================] - 3s 39ms/step - loss: 0.1101 - binary_accuracy: 0.9533 - val_loss: 0.5378 - val_binary_accuracy: 0.8446\n",
      "Epoch 37/50\n",
      "80/80 [==============================] - 3s 40ms/step - loss: 0.1113 - binary_accuracy: 0.9509 - val_loss: 0.5628 - val_binary_accuracy: 0.8424\n",
      "Epoch 38/50\n",
      "80/80 [==============================] - 3s 40ms/step - loss: 0.0983 - binary_accuracy: 0.9562 - val_loss: 0.4461 - val_binary_accuracy: 0.8468\n",
      "Epoch 39/50\n",
      "80/80 [==============================] - 3s 39ms/step - loss: 0.0811 - binary_accuracy: 0.9660 - val_loss: 0.5995 - val_binary_accuracy: 0.8222\n",
      "Epoch 40/50\n",
      "80/80 [==============================] - 3s 40ms/step - loss: 0.0763 - binary_accuracy: 0.9662 - val_loss: 0.7046 - val_binary_accuracy: 0.7994\n",
      "Epoch 41/50\n",
      "80/80 [==============================] - 3s 41ms/step - loss: 0.0703 - binary_accuracy: 0.9689 - val_loss: 0.5416 - val_binary_accuracy: 0.8541\n",
      "Epoch 42/50\n",
      "80/80 [==============================] - 3s 39ms/step - loss: 0.0584 - binary_accuracy: 0.9767 - val_loss: 0.6938 - val_binary_accuracy: 0.8527\n",
      "Epoch 43/50\n",
      "80/80 [==============================] - 3s 39ms/step - loss: 0.0594 - binary_accuracy: 0.9734 - val_loss: 0.6459 - val_binary_accuracy: 0.8539\n",
      "Epoch 44/50\n",
      "80/80 [==============================] - 3s 39ms/step - loss: 0.0596 - binary_accuracy: 0.9748 - val_loss: 0.6288 - val_binary_accuracy: 0.8539\n",
      "Epoch 45/50\n",
      "80/80 [==============================] - 3s 39ms/step - loss: 0.0499 - binary_accuracy: 0.9777 - val_loss: 0.7018 - val_binary_accuracy: 0.8533\n",
      "Epoch 46/50\n",
      "80/80 [==============================] - 3s 40ms/step - loss: 0.0527 - binary_accuracy: 0.9795 - val_loss: 0.6439 - val_binary_accuracy: 0.8499\n",
      "Epoch 47/50\n",
      "80/80 [==============================] - 3s 40ms/step - loss: 0.0428 - binary_accuracy: 0.9810 - val_loss: 0.7525 - val_binary_accuracy: 0.8557\n",
      "Epoch 48/50\n",
      "80/80 [==============================] - 3s 40ms/step - loss: 0.0420 - binary_accuracy: 0.9797 - val_loss: 0.7637 - val_binary_accuracy: 0.8555\n",
      "Epoch 49/50\n",
      "80/80 [==============================] - 4s 47ms/step - loss: 0.0409 - binary_accuracy: 0.9830 - val_loss: 0.8027 - val_binary_accuracy: 0.8523\n",
      "Epoch 50/50\n",
      "80/80 [==============================] - 3s 39ms/step - loss: 0.0440 - binary_accuracy: 0.9810 - val_loss: 0.6919 - val_binary_accuracy: 0.8521\n"
     ]
    }
   ],
   "source": [
    "history = model.fit(\n",
    "    ds_train,\n",
    "    validation_data=ds_valid,\n",
    "    epochs=50,\n",
    ")"
   ]
  },
  {
   "cell_type": "markdown",
   "id": "03e1b8b1",
   "metadata": {
    "papermill": {
     "duration": 0.166064,
     "end_time": "2023-08-02T15:12:08.619394",
     "exception": false,
     "start_time": "2023-08-02T15:12:08.453330",
     "status": "completed"
    },
    "tags": []
   },
   "source": [
    "And now run the cell below to plot the loss and metric curves for this training run."
   ]
  },
  {
   "cell_type": "code",
   "execution_count": 8,
   "id": "e293a9ac",
   "metadata": {
    "execution": {
     "iopub.execute_input": "2023-08-02T15:12:08.951789Z",
     "iopub.status.busy": "2023-08-02T15:12:08.950825Z",
     "iopub.status.idle": "2023-08-02T15:12:09.852729Z",
     "shell.execute_reply": "2023-08-02T15:12:09.851815Z"
    },
    "papermill": {
     "duration": 1.069555,
     "end_time": "2023-08-02T15:12:09.854826",
     "exception": false,
     "start_time": "2023-08-02T15:12:08.785271",
     "status": "completed"
    },
    "tags": []
   },
   "outputs": [
    {
     "data": {
      "image/png": "[encoded data removed]",
      "text/plain": [
       "<Figure size 640x480 with 1 Axes>"
      ]
     },
     "metadata": {},
     "output_type": "display_data"
    },
    {
     "data": {
      "image/png": "[encoded data removed]",
      "text/plain": [
       "<Figure size 640x480 with 1 Axes>"
      ]
     },
     "metadata": {},
     "output_type": "display_data"
    }
   ],
   "source": [
    "import pandas as pd\n",
    "history_frame = pd.DataFrame(history.history)\n",
    "history_frame.loc[:, ['loss', 'val_loss']].plot()\n",
    "history_frame.loc[:, ['binary_accuracy', 'val_binary_accuracy']].plot();"
   ]
  },
  {
   "cell_type": "markdown",
   "id": "a8b1d763",
   "metadata": {
    "papermill": {
     "duration": 0.166366,
     "end_time": "2023-08-02T15:12:10.189329",
     "exception": false,
     "start_time": "2023-08-02T15:12:10.022963",
     "status": "completed"
    },
    "tags": []
   },
   "source": [
    "# 3) Train the Model #\n",
    "\n",
    "How would you interpret these training curves? Did this model improve upon the model from the tutorial?"
   ]
  },
  {
   "cell_type": "code",
   "execution_count": 9,
   "id": "fe846d7e",
   "metadata": {
    "execution": {
     "iopub.execute_input": "2023-08-02T15:12:10.524768Z",
     "iopub.status.busy": "2023-08-02T15:12:10.524066Z",
     "iopub.status.idle": "2023-08-02T15:12:10.532493Z",
     "shell.execute_reply": "2023-08-02T15:12:10.531493Z"
    },
    "lines_to_next_cell": 0,
    "papermill": {
     "duration": 0.179621,
     "end_time": "2023-08-02T15:12:10.536030",
     "exception": false,
     "start_time": "2023-08-02T15:12:10.356409",
     "status": "completed"
    },
    "tags": []
   },
   "outputs": [
    {
     "data": {
      "application/javascript": [
       "parent.postMessage({\"jupyterEvent\": \"custom.exercise_interaction\", \"data\": {\"outcomeType\": 1, \"valueTowardsCompletion\": 0.3333333333333333, \"interactionType\": 1, \"questionType\": 4, \"questionId\": \"3_Q3\", \"learnToolsVersion\": \"0.3.4\", \"failureMessage\": \"\", \"exceptionClass\": \"\", \"trace\": \"\"}}, \"*\")"
      ],
      "text/plain": [
       "<IPython.core.display.Javascript object>"
      ]
     },
     "metadata": {},
     "output_type": "display_data"
    },
    {
     "data": {
      "text/markdown": [
       "<span style=\"color:#33cc33\">Correct:</span> \n",
       "\n",
       "\n",
       "The learning curves for the model from the tutorial diverged fairly rapidly. This would indicate that it was prone to overfitting and in need of some regularization. The additional layer in our new model would make it even more prone to overfitting. However, adding some regularization with the `Dropout` layer helped prevent this. These changes improved the validation accuracy of the model by several points.\n"
      ],
      "text/plain": [
       "Correct: \n",
       "\n",
       "\n",
       "The learning curves for the model from the tutorial diverged fairly rapidly. This would indicate that it was prone to overfitting and in need of some regularization. The additional layer in our new model would make it even more prone to overfitting. However, adding some regularization with the `Dropout` layer helped prevent this. These changes improved the validation accuracy of the model by several points."
      ]
     },
     "metadata": {},
     "output_type": "display_data"
    }
   ],
   "source": [
    "# View the solution (Run this code cell to receive credit!)\n",
    "q_3.check()"
   ]
  },
  {
   "cell_type": "markdown",
   "id": "3e1f4ca7",
   "metadata": {
    "papermill": {
     "duration": 0.166766,
     "end_time": "2023-08-02T15:12:10.869762",
     "exception": false,
     "start_time": "2023-08-02T15:12:10.702996",
     "status": "completed"
    },
    "tags": []
   },
   "source": [
    "# Conclusion #\n",
    "\n",
    "These exercises showed you how to design a custom convolutional network to solve a specific classification problem. Though most models these days will be built on top of a pretrained base, it certain circumstances a smaller custom convnet might still be preferable -- such as with a smaller or unusual dataset or when computing resources are very limited. As you saw here, for certain problems they can perform just as well as a pretrained model.\n",
    "\n",
    "# Keep Going #\n",
    "\n",
    "Continue on to [**Lesson 6**](https://www.kaggle.com/ryanholbrook/data-augmentation), where you'll learn a widely-used technique that can give a boost to your training data: **data augmentation**."
   ]
  },
  {
   "cell_type": "markdown",
   "id": "0390667b",
   "metadata": {
    "papermill": {
     "duration": 0.166192,
     "end_time": "2023-08-02T15:12:11.203383",
     "exception": false,
     "start_time": "2023-08-02T15:12:11.037191",
     "status": "completed"
    },
    "tags": []
   },
   "source": [
    "---\n",
    "\n",
    "\n",
    "\n",
    "\n",
    "*Have questions or comments? Visit the [course discussion forum](https://www.kaggle.com/learn/computer-vision/discussion) to chat with other learners.*"
   ]
  }
 ],
 "metadata": {
  "kernelspec": {
   "display_name": "Python 3",
   "language": "python",
   "name": "python3"
  },
  "language_info": {
   "codemirror_mode": {
    "name": "ipython",
    "version": 3
   },
   "file_extension": ".py",
   "mimetype": "text/x-python",
   "name": "python",
   "nbconvert_exporter": "python",
   "pygments_lexer": "ipython3",
   "version": "3.10.12"
  },
  "papermill": {
   "default_parameters": {},
   "duration": 248.859259,
   "end_time": "2023-08-02T15:12:14.232771",
   "environment_variables": {},
   "exception": null,
   "input_path": "__notebook__.ipynb",
   "output_path": "__notebook__.ipynb",
   "parameters": {},
   "start_time": "2023-08-02T15:08:05.373512",
   "version": "2.4.0"
  }
 },
 "nbformat": 4,
 "nbformat_minor": 5
}
