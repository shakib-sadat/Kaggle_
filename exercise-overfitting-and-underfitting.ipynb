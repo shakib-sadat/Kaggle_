{
 "cells": [
  {
   "cell_type": "markdown",
   "id": "e52002d3",
   "metadata": {
    "papermill": {
     "duration": 0.011012,
     "end_time": "2023-07-18T12:48:49.980285",
     "exception": false,
     "start_time": "2023-07-18T12:48:49.969273",
     "status": "completed"
    },
    "tags": []
   },
   "source": [
    "**This notebook is an exercise in the [Intro to Deep Learning](https://www.kaggle.com/learn/intro-to-deep-learning) course.  You can reference the tutorial at [this link](https://www.kaggle.com/ryanholbrook/overfitting-and-underfitting).**\n",
    "\n",
    "---\n"
   ]
  },
  {
   "cell_type": "markdown",
   "id": "1905e57f",
   "metadata": {
    "papermill": {
     "duration": 0.010688,
     "end_time": "2023-07-18T12:48:50.003870",
     "exception": false,
     "start_time": "2023-07-18T12:48:49.993182",
     "status": "completed"
    },
    "tags": []
   },
   "source": [
    "# Introduction #\n",
    "\n",
    "In this exercise, you’ll learn how to improve training outcomes by including an early stopping callback to prevent overfitting.\n",
    "\n",
    "When you're ready, run this next cell to set everything up!"
   ]
  },
  {
   "cell_type": "code",
   "execution_count": 1,
   "id": "642fc048",
   "metadata": {
    "execution": {
     "iopub.execute_input": "2023-07-18T12:48:50.027017Z",
     "iopub.status.busy": "2023-07-18T12:48:50.026579Z",
     "iopub.status.idle": "2023-07-18T12:48:50.070180Z",
     "shell.execute_reply": "2023-07-18T12:48:50.069197Z"
    },
    "papermill": {
     "duration": 0.061466,
     "end_time": "2023-07-18T12:48:50.072729",
     "exception": false,
     "start_time": "2023-07-18T12:48:50.011263",
     "status": "completed"
    },
    "tags": []
   },
   "outputs": [
    {
     "name": "stderr",
     "output_type": "stream",
     "text": [
      "/tmp/ipykernel_23/1500229236.py:3: MatplotlibDeprecationWarning: The seaborn styles shipped by Matplotlib are deprecated since 3.6, as they no longer correspond to the styles shipped by seaborn. However, they will remain available as 'seaborn-v0_8-<style>'. Alternatively, directly use the seaborn API instead.\n",
      "  plt.style.use('seaborn-whitegrid')\n"
     ]
    }
   ],
   "source": [
    "# Setup plotting\n",
    "import matplotlib.pyplot as plt\n",
    "plt.style.use('seaborn-whitegrid')\n",
    "# Set Matplotlib defaults\n",
    "plt.rc('figure', autolayout=True)\n",
    "plt.rc('axes', labelweight='bold', labelsize='large',\n",
    "       titleweight='bold', titlesize=18, titlepad=10)\n",
    "plt.rc('animation', html='html5')\n",
    "\n",
    "# Setup feedback system\n",
    "from learntools.core import binder\n",
    "binder.bind(globals())\n",
    "from learntools.deep_learning_intro.ex4 import *"
   ]
  },
  {
   "cell_type": "markdown",
   "id": "f8466ca6",
   "metadata": {
    "papermill": {
     "duration": 0.005847,
     "end_time": "2023-07-18T12:48:50.084436",
     "exception": false,
     "start_time": "2023-07-18T12:48:50.078589",
     "status": "completed"
    },
    "tags": []
   },
   "source": [
    "First load the *Spotify* dataset. Your task will be to predict the popularity of a song based on various audio features, like `'tempo'`, `'danceability'`, and `'mode'`."
   ]
  },
  {
   "cell_type": "code",
   "execution_count": 2,
   "id": "394cb325",
   "metadata": {
    "execution": {
     "iopub.execute_input": "2023-07-18T12:48:50.097394Z",
     "iopub.status.busy": "2023-07-18T12:48:50.096780Z",
     "iopub.status.idle": "2023-07-18T12:48:58.620473Z",
     "shell.execute_reply": "2023-07-18T12:48:58.619533Z"
    },
    "papermill": {
     "duration": 8.532535,
     "end_time": "2023-07-18T12:48:58.622633",
     "exception": false,
     "start_time": "2023-07-18T12:48:50.090098",
     "status": "completed"
    },
    "tags": []
   },
   "outputs": [
    {
     "name": "stderr",
     "output_type": "stream",
     "text": [
      "/opt/conda/lib/python3.10/site-packages/scipy/__init__.py:146: UserWarning: A NumPy version >=1.16.5 and <1.23.0 is required for this version of SciPy (detected version 1.23.5\n",
      "  warnings.warn(f\"A NumPy version >={np_minversion} and <{np_maxversion}\"\n",
      "/opt/conda/lib/python3.10/site-packages/tensorflow_io/python/ops/__init__.py:98: UserWarning: unable to load libtensorflow_io_plugins.so: unable to open file: libtensorflow_io_plugins.so, from paths: ['/opt/conda/lib/python3.10/site-packages/tensorflow_io/python/ops/libtensorflow_io_plugins.so']\n",
      "caused by: ['/opt/conda/lib/python3.10/site-packages/tensorflow_io/python/ops/libtensorflow_io_plugins.so: undefined symbol: _ZN3tsl6StatusC1EN10tensorflow5error4CodeESt17basic_string_viewIcSt11char_traitsIcEENS_14SourceLocationE']\n",
      "  warnings.warn(f\"unable to load libtensorflow_io_plugins.so: {e}\")\n",
      "/opt/conda/lib/python3.10/site-packages/tensorflow_io/python/ops/__init__.py:104: UserWarning: file system plugins are not loaded: unable to open file: libtensorflow_io.so, from paths: ['/opt/conda/lib/python3.10/site-packages/tensorflow_io/python/ops/libtensorflow_io.so']\n",
      "caused by: ['/opt/conda/lib/python3.10/site-packages/tensorflow_io/python/ops/libtensorflow_io.so: undefined symbol: _ZTVN10tensorflow13GcsFileSystemE']\n",
      "  warnings.warn(f\"file system plugins are not loaded: {e}\")\n"
     ]
    },
    {
     "name": "stdout",
     "output_type": "stream",
     "text": [
      "Input shape: [18]\n"
     ]
    }
   ],
   "source": [
    "import pandas as pd\n",
    "from sklearn.preprocessing import StandardScaler, OneHotEncoder\n",
    "from sklearn.compose import make_column_transformer\n",
    "from sklearn.model_selection import GroupShuffleSplit\n",
    "\n",
    "from tensorflow import keras\n",
    "from tensorflow.keras import layers\n",
    "from tensorflow.keras import callbacks\n",
    "\n",
    "spotify = pd.read_csv('../input/dl-course-data/spotify.csv')\n",
    "\n",
    "X = spotify.copy().dropna()\n",
    "y = X.pop('track_popularity')\n",
    "artists = X['track_artist']\n",
    "\n",
    "features_num = ['danceability', 'energy', 'key', 'loudness', 'mode',\n",
    "                'speechiness', 'acousticness', 'instrumentalness',\n",
    "                'liveness', 'valence', 'tempo', 'duration_ms']\n",
    "features_cat = ['playlist_genre']\n",
    "\n",
    "preprocessor = make_column_transformer(\n",
    "    (StandardScaler(), features_num),\n",
    "    (OneHotEncoder(), features_cat),\n",
    ")\n",
    "\n",
    "# We'll do a \"grouped\" split to keep all of an artist's songs in one\n",
    "# split or the other. This is to help prevent signal leakage.\n",
    "def group_split(X, y, group, train_size=0.75):\n",
    "    splitter = GroupShuffleSplit(train_size=train_size)\n",
    "    train, test = next(splitter.split(X, y, groups=group))\n",
    "    return (X.iloc[train], X.iloc[test], y.iloc[train], y.iloc[test])\n",
    "\n",
    "X_train, X_valid, y_train, y_valid = group_split(X, y, artists)\n",
    "\n",
    "X_train = preprocessor.fit_transform(X_train)\n",
    "X_valid = preprocessor.transform(X_valid)\n",
    "y_train = y_train / 100 # popularity is on a scale 0-100, so this rescales to 0-1.\n",
    "y_valid = y_valid / 100\n",
    "\n",
    "input_shape = [X_train.shape[1]]\n",
    "print(\"Input shape: {}\".format(input_shape))"
   ]
  },
  {
   "cell_type": "markdown",
   "id": "b58fa499",
   "metadata": {
    "papermill": {
     "duration": 0.005902,
     "end_time": "2023-07-18T12:48:58.634884",
     "exception": false,
     "start_time": "2023-07-18T12:48:58.628982",
     "status": "completed"
    },
    "tags": []
   },
   "source": [
    "Let's start with the simplest network, a linear model. This model has low capacity.\n",
    "\n",
    "Run this next cell without any changes to train a linear model on the *Spotify* dataset."
   ]
  },
  {
   "cell_type": "code",
   "execution_count": 3,
   "id": "a63cf3a9",
   "metadata": {
    "execution": {
     "iopub.execute_input": "2023-07-18T12:48:58.648834Z",
     "iopub.status.busy": "2023-07-18T12:48:58.647756Z",
     "iopub.status.idle": "2023-07-18T12:49:13.068892Z",
     "shell.execute_reply": "2023-07-18T12:49:13.067984Z"
    },
    "lines_to_next_cell": 0,
    "papermill": {
     "duration": 14.430548,
     "end_time": "2023-07-18T12:49:13.071386",
     "exception": false,
     "start_time": "2023-07-18T12:48:58.640838",
     "status": "completed"
    },
    "tags": []
   },
   "outputs": [
    {
     "name": "stdout",
     "output_type": "stream",
     "text": [
      "Minimum Validation Loss: 0.1979\n"
     ]
    },
    {
     "data": {
      "image/png": "[encoded data removed]",
      "text/plain": [
       "<Figure size 640x480 with 1 Axes>"
      ]
     },
     "metadata": {},
     "output_type": "display_data"
    }
   ],
   "source": [
    "model = keras.Sequential([\n",
    "    layers.Dense(1, input_shape=input_shape),\n",
    "])\n",
    "model.compile(\n",
    "    optimizer='adam',\n",
    "    loss='mae',\n",
    ")\n",
    "history = model.fit(\n",
    "    X_train, y_train,\n",
    "    validation_data=(X_valid, y_valid),\n",
    "    batch_size=512,\n",
    "    epochs=50,\n",
    "    verbose=0, # suppress output since we'll plot the curves\n",
    ")\n",
    "history_df = pd.DataFrame(history.history)\n",
    "history_df.loc[0:, ['loss', 'val_loss']].plot()\n",
    "print(\"Minimum Validation Loss: {:0.4f}\".format(history_df['val_loss'].min()));"
   ]
  },
  {
   "cell_type": "markdown",
   "id": "cf00b7cb",
   "metadata": {
    "papermill": {
     "duration": 0.006665,
     "end_time": "2023-07-18T12:49:13.084698",
     "exception": false,
     "start_time": "2023-07-18T12:49:13.078033",
     "status": "completed"
    },
    "tags": []
   },
   "source": [
    "It's not uncommon for the curves to follow a \"hockey stick\" pattern like you see here. This makes the final part of training hard to see, so let's start at epoch 10 instead:"
   ]
  },
  {
   "cell_type": "code",
   "execution_count": 4,
   "id": "4b2a4841",
   "metadata": {
    "execution": {
     "iopub.execute_input": "2023-07-18T12:49:13.099121Z",
     "iopub.status.busy": "2023-07-18T12:49:13.098810Z",
     "iopub.status.idle": "2023-07-18T12:49:13.562514Z",
     "shell.execute_reply": "2023-07-18T12:49:13.561637Z"
    },
    "papermill": {
     "duration": 0.473439,
     "end_time": "2023-07-18T12:49:13.564827",
     "exception": false,
     "start_time": "2023-07-18T12:49:13.091388",
     "status": "completed"
    },
    "tags": []
   },
   "outputs": [
    {
     "name": "stdout",
     "output_type": "stream",
     "text": [
      "Minimum Validation Loss: 0.1979\n"
     ]
    },
    {
     "data": {
      "image/png": "[encoded data removed]",
      "text/plain": [
       "<Figure size 640x480 with 1 Axes>"
      ]
     },
     "metadata": {},
     "output_type": "display_data"
    }
   ],
   "source": [
    "# Start the plot at epoch 10\n",
    "history_df.loc[10:, ['loss', 'val_loss']].plot()\n",
    "print(\"Minimum Validation Loss: {:0.4f}\".format(history_df['val_loss'].min()));"
   ]
  },
  {
   "cell_type": "markdown",
   "id": "6f9a727a",
   "metadata": {
    "papermill": {
     "duration": 0.007034,
     "end_time": "2023-07-18T12:49:13.579262",
     "exception": false,
     "start_time": "2023-07-18T12:49:13.572228",
     "status": "completed"
    },
    "tags": []
   },
   "source": [
    "# 1) Evaluate Baseline\n",
    "\n",
    "What do you think? Would you say this model is underfitting, overfitting, just right?"
   ]
  },
  {
   "cell_type": "code",
   "execution_count": 5,
   "id": "0f92506b",
   "metadata": {
    "execution": {
     "iopub.execute_input": "2023-07-18T12:49:13.595283Z",
     "iopub.status.busy": "2023-07-18T12:49:13.594706Z",
     "iopub.status.idle": "2023-07-18T12:49:13.605529Z",
     "shell.execute_reply": "2023-07-18T12:49:13.604627Z"
    },
    "papermill": {
     "duration": 0.020889,
     "end_time": "2023-07-18T12:49:13.607461",
     "exception": false,
     "start_time": "2023-07-18T12:49:13.586572",
     "status": "completed"
    },
    "tags": []
   },
   "outputs": [
    {
     "data": {
      "application/javascript": [
       "parent.postMessage({\"jupyterEvent\": \"custom.exercise_interaction\", \"data\": {\"outcomeType\": 1, \"valueTowardsCompletion\": 0.25, \"interactionType\": 1, \"questionType\": 4, \"questionId\": \"1_Q1\", \"learnToolsVersion\": \"0.3.4\", \"failureMessage\": \"\", \"exceptionClass\": \"\", \"trace\": \"\"}}, \"*\")"
      ],
      "text/plain": [
       "<IPython.core.display.Javascript object>"
      ]
     },
     "metadata": {},
     "output_type": "display_data"
    },
    {
     "data": {
      "text/markdown": [
       "<span style=\"color:#33cc33\">Correct:</span> \n",
       "\n",
       "The gap between these curves is quite small and the validation loss never increases, so it's more likely that the network is underfitting than overfitting. It would be worth experimenting with more capacity to see if that's the case."
      ],
      "text/plain": [
       "Correct: \n",
       "\n",
       "The gap between these curves is quite small and the validation loss never increases, so it's more likely that the network is underfitting than overfitting. It would be worth experimenting with more capacity to see if that's the case."
      ]
     },
     "metadata": {},
     "output_type": "display_data"
    }
   ],
   "source": [
    "# View the solution (Run this cell to receive credit!)\n",
    "q_1.check()"
   ]
  },
  {
   "cell_type": "markdown",
   "id": "8aa9cf2e",
   "metadata": {
    "papermill": {
     "duration": 0.007095,
     "end_time": "2023-07-18T12:49:13.621957",
     "exception": false,
     "start_time": "2023-07-18T12:49:13.614862",
     "status": "completed"
    },
    "tags": []
   },
   "source": [
    "Now let's add some capacity to our network. We'll add three hidden layers with 128 units each. Run the next cell to train the network and see the learning curves."
   ]
  },
  {
   "cell_type": "code",
   "execution_count": 6,
   "id": "4cba5f15",
   "metadata": {
    "execution": {
     "iopub.execute_input": "2023-07-18T12:49:13.638069Z",
     "iopub.status.busy": "2023-07-18T12:49:13.637783Z",
     "iopub.status.idle": "2023-07-18T12:49:25.884695Z",
     "shell.execute_reply": "2023-07-18T12:49:25.883604Z"
    },
    "papermill": {
     "duration": 12.25738,
     "end_time": "2023-07-18T12:49:25.886787",
     "exception": false,
     "start_time": "2023-07-18T12:49:13.629407",
     "status": "completed"
    },
    "tags": []
   },
   "outputs": [
    {
     "name": "stdout",
     "output_type": "stream",
     "text": [
      "Epoch 1/50\n",
      "49/49 [==============================] - 2s 7ms/step - loss: 0.2391 - val_loss: 0.2090\n",
      "Epoch 2/50\n",
      "49/49 [==============================] - 0s 4ms/step - loss: 0.2016 - val_loss: 0.2031\n",
      "Epoch 3/50\n",
      "49/49 [==============================] - 0s 4ms/step - loss: 0.1981 - val_loss: 0.2004\n",
      "Epoch 4/50\n",
      "49/49 [==============================] - 0s 4ms/step - loss: 0.1939 - val_loss: 0.1999\n",
      "Epoch 5/50\n",
      "49/49 [==============================] - 0s 4ms/step - loss: 0.1923 - val_loss: 0.1972\n",
      "Epoch 6/50\n",
      "49/49 [==============================] - 0s 4ms/step - loss: 0.1913 - val_loss: 0.1980\n",
      "Epoch 7/50\n",
      "49/49 [==============================] - 0s 4ms/step - loss: 0.1896 - val_loss: 0.1959\n",
      "Epoch 8/50\n",
      "49/49 [==============================] - 0s 5ms/step - loss: 0.1882 - val_loss: 0.1976\n",
      "Epoch 9/50\n",
      "49/49 [==============================] - 0s 4ms/step - loss: 0.1870 - val_loss: 0.1978\n",
      "Epoch 10/50\n",
      "49/49 [==============================] - 0s 4ms/step - loss: 0.1866 - val_loss: 0.1967\n",
      "Epoch 11/50\n",
      "49/49 [==============================] - 0s 4ms/step - loss: 0.1854 - val_loss: 0.1983\n",
      "Epoch 12/50\n",
      "49/49 [==============================] - 0s 4ms/step - loss: 0.1846 - val_loss: 0.1968\n",
      "Epoch 13/50\n",
      "49/49 [==============================] - 0s 4ms/step - loss: 0.1851 - val_loss: 0.1963\n",
      "Epoch 14/50\n",
      "49/49 [==============================] - 0s 4ms/step - loss: 0.1838 - val_loss: 0.1972\n",
      "Epoch 15/50\n",
      "49/49 [==============================] - 0s 5ms/step - loss: 0.1835 - val_loss: 0.1971\n",
      "Epoch 16/50\n",
      "49/49 [==============================] - 0s 4ms/step - loss: 0.1830 - val_loss: 0.1966\n",
      "Epoch 17/50\n",
      "49/49 [==============================] - 0s 4ms/step - loss: 0.1821 - val_loss: 0.2000\n",
      "Epoch 18/50\n",
      "49/49 [==============================] - 0s 4ms/step - loss: 0.1821 - val_loss: 0.1976\n",
      "Epoch 19/50\n",
      "49/49 [==============================] - 0s 4ms/step - loss: 0.1810 - val_loss: 0.1963\n",
      "Epoch 20/50\n",
      "49/49 [==============================] - 0s 4ms/step - loss: 0.1810 - val_loss: 0.1978\n",
      "Epoch 21/50\n",
      "49/49 [==============================] - 0s 4ms/step - loss: 0.1808 - val_loss: 0.1974\n",
      "Epoch 22/50\n",
      "49/49 [==============================] - 0s 4ms/step - loss: 0.1793 - val_loss: 0.1963\n",
      "Epoch 23/50\n",
      "49/49 [==============================] - 0s 4ms/step - loss: 0.1789 - val_loss: 0.1974\n",
      "Epoch 24/50\n",
      "49/49 [==============================] - 0s 5ms/step - loss: 0.1786 - val_loss: 0.1963\n",
      "Epoch 25/50\n",
      "49/49 [==============================] - 0s 4ms/step - loss: 0.1780 - val_loss: 0.1975\n",
      "Epoch 26/50\n",
      "49/49 [==============================] - 0s 4ms/step - loss: 0.1774 - val_loss: 0.1981\n",
      "Epoch 27/50\n",
      "49/49 [==============================] - 0s 4ms/step - loss: 0.1775 - val_loss: 0.1986\n",
      "Epoch 28/50\n",
      "49/49 [==============================] - 0s 4ms/step - loss: 0.1778 - val_loss: 0.1991\n",
      "Epoch 29/50\n",
      "49/49 [==============================] - 0s 4ms/step - loss: 0.1772 - val_loss: 0.1982\n",
      "Epoch 30/50\n",
      "49/49 [==============================] - 0s 4ms/step - loss: 0.1763 - val_loss: 0.1991\n",
      "Epoch 31/50\n",
      "49/49 [==============================] - 0s 4ms/step - loss: 0.1760 - val_loss: 0.2000\n",
      "Epoch 32/50\n",
      "49/49 [==============================] - 0s 5ms/step - loss: 0.1758 - val_loss: 0.1984\n",
      "Epoch 33/50\n",
      "49/49 [==============================] - 0s 5ms/step - loss: 0.1750 - val_loss: 0.2005\n",
      "Epoch 34/50\n",
      "49/49 [==============================] - 0s 4ms/step - loss: 0.1743 - val_loss: 0.1994\n",
      "Epoch 35/50\n",
      "49/49 [==============================] - 0s 4ms/step - loss: 0.1749 - val_loss: 0.1993\n",
      "Epoch 36/50\n",
      "49/49 [==============================] - 0s 5ms/step - loss: 0.1750 - val_loss: 0.1991\n",
      "Epoch 37/50\n",
      "49/49 [==============================] - 0s 4ms/step - loss: 0.1739 - val_loss: 0.2010\n",
      "Epoch 38/50\n",
      "49/49 [==============================] - 0s 4ms/step - loss: 0.1735 - val_loss: 0.2018\n",
      "Epoch 39/50\n",
      "49/49 [==============================] - 0s 5ms/step - loss: 0.1735 - val_loss: 0.2003\n",
      "Epoch 40/50\n",
      "49/49 [==============================] - 0s 4ms/step - loss: 0.1722 - val_loss: 0.2016\n",
      "Epoch 41/50\n",
      "49/49 [==============================] - 0s 4ms/step - loss: 0.1715 - val_loss: 0.1992\n",
      "Epoch 42/50\n",
      "49/49 [==============================] - 0s 4ms/step - loss: 0.1715 - val_loss: 0.2009\n",
      "Epoch 43/50\n",
      "49/49 [==============================] - 0s 4ms/step - loss: 0.1713 - val_loss: 0.2008\n",
      "Epoch 44/50\n",
      "49/49 [==============================] - 0s 4ms/step - loss: 0.1703 - val_loss: 0.2008\n",
      "Epoch 45/50\n",
      "49/49 [==============================] - 0s 4ms/step - loss: 0.1724 - val_loss: 0.2010\n",
      "Epoch 46/50\n",
      "49/49 [==============================] - 0s 4ms/step - loss: 0.1701 - val_loss: 0.2011\n",
      "Epoch 47/50\n",
      "49/49 [==============================] - 0s 4ms/step - loss: 0.1700 - val_loss: 0.2020\n",
      "Epoch 48/50\n",
      "49/49 [==============================] - 0s 4ms/step - loss: 0.1693 - val_loss: 0.2010\n",
      "Epoch 49/50\n",
      "49/49 [==============================] - 0s 4ms/step - loss: 0.1695 - val_loss: 0.2009\n",
      "Epoch 50/50\n",
      "49/49 [==============================] - 0s 4ms/step - loss: 0.1681 - val_loss: 0.2022\n",
      "Minimum Validation Loss: 0.1959\n"
     ]
    },
    {
     "data": {
      "image/png": "[encoded data removed]",
      "text/plain": [
       "<Figure size 640x480 with 1 Axes>"
      ]
     },
     "metadata": {},
     "output_type": "display_data"
    }
   ],
   "source": [
    "model = keras.Sequential([\n",
    "    layers.Dense(128, activation='relu', input_shape=input_shape),\n",
    "    layers.Dense(64, activation='relu'),\n",
    "    layers.Dense(1)\n",
    "])\n",
    "model.compile(\n",
    "    optimizer='adam',\n",
    "    loss='mae',\n",
    ")\n",
    "history = model.fit(\n",
    "    X_train, y_train,\n",
    "    validation_data=(X_valid, y_valid),\n",
    "    batch_size=512,\n",
    "    epochs=50,\n",
    ")\n",
    "history_df = pd.DataFrame(history.history)\n",
    "history_df.loc[:, ['loss', 'val_loss']].plot()\n",
    "print(\"Minimum Validation Loss: {:0.4f}\".format(history_df['val_loss'].min()));"
   ]
  },
  {
   "cell_type": "markdown",
   "id": "ddcb6a25",
   "metadata": {
    "papermill": {
     "duration": 0.026384,
     "end_time": "2023-07-18T12:49:25.939718",
     "exception": false,
     "start_time": "2023-07-18T12:49:25.913334",
     "status": "completed"
    },
    "tags": []
   },
   "source": [
    "# 2) Add Capacity\n",
    "\n",
    "What is your evaluation of these curves? Underfitting, overfitting, just right?"
   ]
  },
  {
   "cell_type": "code",
   "execution_count": 7,
   "id": "744b6eda",
   "metadata": {
    "execution": {
     "iopub.execute_input": "2023-07-18T12:49:25.994737Z",
     "iopub.status.busy": "2023-07-18T12:49:25.994371Z",
     "iopub.status.idle": "2023-07-18T12:49:26.002292Z",
     "shell.execute_reply": "2023-07-18T12:49:26.001356Z"
    },
    "papermill": {
     "duration": 0.037904,
     "end_time": "2023-07-18T12:49:26.004348",
     "exception": false,
     "start_time": "2023-07-18T12:49:25.966444",
     "status": "completed"
    },
    "tags": []
   },
   "outputs": [
    {
     "data": {
      "application/javascript": [
       "parent.postMessage({\"jupyterEvent\": \"custom.exercise_interaction\", \"data\": {\"outcomeType\": 1, \"valueTowardsCompletion\": 0.25, \"interactionType\": 1, \"questionType\": 4, \"questionId\": \"2_Q2\", \"learnToolsVersion\": \"0.3.4\", \"failureMessage\": \"\", \"exceptionClass\": \"\", \"trace\": \"\"}}, \"*\")"
      ],
      "text/plain": [
       "<IPython.core.display.Javascript object>"
      ]
     },
     "metadata": {},
     "output_type": "display_data"
    },
    {
     "data": {
      "text/markdown": [
       "<span style=\"color:#33cc33\">Correct:</span> \n",
       "\n",
       "Now the validation loss begins to rise very early, while the training loss continues to decrease. This indicates that the network has begun to overfit. At this point, we would need to try something to prevent it, either by reducing the number of units or through a method like early stopping. (We'll see another in the next lesson!)"
      ],
      "text/plain": [
       "Correct: \n",
       "\n",
       "Now the validation loss begins to rise very early, while the training loss continues to decrease. This indicates that the network has begun to overfit. At this point, we would need to try something to prevent it, either by reducing the number of units or through a method like early stopping. (We'll see another in the next lesson!)"
      ]
     },
     "metadata": {},
     "output_type": "display_data"
    }
   ],
   "source": [
    "# View the solution (Run this cell to receive credit!)\n",
    "q_2.check()"
   ]
  },
  {
   "cell_type": "markdown",
   "id": "2dde07d8",
   "metadata": {
    "papermill": {
     "duration": 0.026316,
     "end_time": "2023-07-18T12:49:26.057266",
     "exception": false,
     "start_time": "2023-07-18T12:49:26.030950",
     "status": "completed"
    },
    "tags": []
   },
   "source": [
    "# 3) Define Early Stopping Callback\n",
    "\n",
    "Now define an early stopping callback that waits 5 epochs (`patience'`) for a change in validation loss of at least `0.001` (`min_delta`) and keeps the weights with the best loss (`restore_best_weights`)."
   ]
  },
  {
   "cell_type": "code",
   "execution_count": 8,
   "id": "156bfb70",
   "metadata": {
    "execution": {
     "iopub.execute_input": "2023-07-18T12:49:26.112681Z",
     "iopub.status.busy": "2023-07-18T12:49:26.112331Z",
     "iopub.status.idle": "2023-07-18T12:49:26.120738Z",
     "shell.execute_reply": "2023-07-18T12:49:26.119834Z"
    },
    "lines_to_next_cell": 0,
    "papermill": {
     "duration": 0.038399,
     "end_time": "2023-07-18T12:49:26.122835",
     "exception": false,
     "start_time": "2023-07-18T12:49:26.084436",
     "status": "completed"
    },
    "tags": []
   },
   "outputs": [
    {
     "data": {
      "application/javascript": [
       "parent.postMessage({\"jupyterEvent\": \"custom.exercise_interaction\", \"data\": {\"outcomeType\": 1, \"valueTowardsCompletion\": 0.25, \"interactionType\": 1, \"questionType\": 2, \"questionId\": \"3_Q3\", \"learnToolsVersion\": \"0.3.4\", \"failureMessage\": \"\", \"exceptionClass\": \"\", \"trace\": \"\"}}, \"*\")"
      ],
      "text/plain": [
       "<IPython.core.display.Javascript object>"
      ]
     },
     "metadata": {},
     "output_type": "display_data"
    },
    {
     "data": {
      "text/markdown": [
       "<span style=\"color:#33cc33\">Correct</span>"
      ],
      "text/plain": [
       "Correct"
      ]
     },
     "metadata": {},
     "output_type": "display_data"
    }
   ],
   "source": [
    "from tensorflow.keras import callbacks\n",
    "\n",
    "# YOUR CODE HERE: define an early stopping callback\n",
    "early_stopping = callbacks.EarlyStopping(patience=5,\n",
    "                                                 min_delta = 0.001,\n",
    "                                                 restore_best_weights = callbacks)\n",
    "\n",
    "# Check your answer\n",
    "q_3.check()"
   ]
  },
  {
   "cell_type": "code",
   "execution_count": 9,
   "id": "f9d2367b",
   "metadata": {
    "execution": {
     "iopub.execute_input": "2023-07-18T12:49:26.178468Z",
     "iopub.status.busy": "2023-07-18T12:49:26.178162Z",
     "iopub.status.idle": "2023-07-18T12:49:26.182209Z",
     "shell.execute_reply": "2023-07-18T12:49:26.181249Z"
    },
    "papermill": {
     "duration": 0.03469,
     "end_time": "2023-07-18T12:49:26.184271",
     "exception": false,
     "start_time": "2023-07-18T12:49:26.149581",
     "status": "completed"
    },
    "tags": []
   },
   "outputs": [],
   "source": [
    "# Lines below will give you a hint or solution code\n",
    "#q_3.hint()\n",
    "#q_3.solution()"
   ]
  },
  {
   "cell_type": "markdown",
   "id": "3596452f",
   "metadata": {
    "papermill": {
     "duration": 0.026731,
     "end_time": "2023-07-18T12:49:26.244680",
     "exception": false,
     "start_time": "2023-07-18T12:49:26.217949",
     "status": "completed"
    },
    "tags": []
   },
   "source": [
    "Now run this cell to train the model and get the learning curves. Notice the `callbacks` argument in `model.fit`."
   ]
  },
  {
   "cell_type": "code",
   "execution_count": 10,
   "id": "45de6a70",
   "metadata": {
    "execution": {
     "iopub.execute_input": "2023-07-18T12:49:26.300769Z",
     "iopub.status.busy": "2023-07-18T12:49:26.300412Z",
     "iopub.status.idle": "2023-07-18T12:49:32.434984Z",
     "shell.execute_reply": "2023-07-18T12:49:32.434006Z"
    },
    "papermill": {
     "duration": 6.165045,
     "end_time": "2023-07-18T12:49:32.437118",
     "exception": false,
     "start_time": "2023-07-18T12:49:26.272073",
     "status": "completed"
    },
    "tags": []
   },
   "outputs": [
    {
     "name": "stdout",
     "output_type": "stream",
     "text": [
      "Epoch 1/50\n",
      "49/49 [==============================] - 2s 10ms/step - loss: 0.2503 - val_loss: 0.2119\n",
      "Epoch 2/50\n",
      "49/49 [==============================] - 0s 6ms/step - loss: 0.2024 - val_loss: 0.2046\n",
      "Epoch 3/50\n",
      "49/49 [==============================] - 0s 6ms/step - loss: 0.1979 - val_loss: 0.2007\n",
      "Epoch 4/50\n",
      "49/49 [==============================] - 0s 6ms/step - loss: 0.1951 - val_loss: 0.1996\n",
      "Epoch 5/50\n",
      "49/49 [==============================] - 0s 4ms/step - loss: 0.1928 - val_loss: 0.1987\n",
      "Epoch 6/50\n",
      "49/49 [==============================] - 0s 4ms/step - loss: 0.1907 - val_loss: 0.1973\n",
      "Epoch 7/50\n",
      "49/49 [==============================] - 0s 4ms/step - loss: 0.1902 - val_loss: 0.1971\n",
      "Epoch 8/50\n",
      "49/49 [==============================] - 0s 4ms/step - loss: 0.1883 - val_loss: 0.1968\n",
      "Epoch 9/50\n",
      "49/49 [==============================] - 0s 4ms/step - loss: 0.1876 - val_loss: 0.1973\n",
      "Epoch 10/50\n",
      "49/49 [==============================] - 0s 4ms/step - loss: 0.1874 - val_loss: 0.1976\n",
      "Epoch 11/50\n",
      "49/49 [==============================] - 0s 6ms/step - loss: 0.1866 - val_loss: 0.1960\n",
      "Epoch 12/50\n",
      "49/49 [==============================] - 0s 5ms/step - loss: 0.1856 - val_loss: 0.1966\n",
      "Epoch 13/50\n",
      "49/49 [==============================] - 0s 4ms/step - loss: 0.1849 - val_loss: 0.1982\n",
      "Epoch 14/50\n",
      "49/49 [==============================] - 0s 4ms/step - loss: 0.1842 - val_loss: 0.1973\n",
      "Epoch 15/50\n",
      "49/49 [==============================] - 0s 4ms/step - loss: 0.1835 - val_loss: 0.1984\n",
      "Epoch 16/50\n",
      "49/49 [==============================] - 0s 4ms/step - loss: 0.1830 - val_loss: 0.1976\n",
      "Minimum Validation Loss: 0.1960\n"
     ]
    },
    {
     "data": {
      "image/png": "[encoded data removed]",
      "text/plain": [
       "<Figure size 640x480 with 1 Axes>"
      ]
     },
     "metadata": {},
     "output_type": "display_data"
    }
   ],
   "source": [
    "model = keras.Sequential([\n",
    "    layers.Dense(128, activation='relu', input_shape=input_shape),\n",
    "    layers.Dense(64, activation='relu'),    \n",
    "    layers.Dense(1)\n",
    "])\n",
    "model.compile(\n",
    "    optimizer='adam',\n",
    "    loss='mae',\n",
    ")\n",
    "history = model.fit(\n",
    "    X_train, y_train,\n",
    "    validation_data=(X_valid, y_valid),\n",
    "    batch_size=512,\n",
    "    epochs=50,\n",
    "    callbacks=[early_stopping]\n",
    ")\n",
    "history_df = pd.DataFrame(history.history)\n",
    "history_df.loc[:, ['loss', 'val_loss']].plot()\n",
    "print(\"Minimum Validation Loss: {:0.4f}\".format(history_df['val_loss'].min()));"
   ]
  },
  {
   "cell_type": "markdown",
   "id": "bc477ca0",
   "metadata": {
    "papermill": {
     "duration": 0.034085,
     "end_time": "2023-07-18T12:49:32.505401",
     "exception": false,
     "start_time": "2023-07-18T12:49:32.471316",
     "status": "completed"
    },
    "tags": []
   },
   "source": [
    "# 4) Train and Interpret\n",
    "\n",
    "Was this an improvement compared to training without early stopping?"
   ]
  },
  {
   "cell_type": "code",
   "execution_count": 11,
   "id": "84872a61",
   "metadata": {
    "execution": {
     "iopub.execute_input": "2023-07-18T12:49:32.576469Z",
     "iopub.status.busy": "2023-07-18T12:49:32.575504Z",
     "iopub.status.idle": "2023-07-18T12:49:32.585526Z",
     "shell.execute_reply": "2023-07-18T12:49:32.584535Z"
    },
    "papermill": {
     "duration": 0.04794,
     "end_time": "2023-07-18T12:49:32.587673",
     "exception": false,
     "start_time": "2023-07-18T12:49:32.539733",
     "status": "completed"
    },
    "tags": []
   },
   "outputs": [
    {
     "data": {
      "application/javascript": [
       "parent.postMessage({\"jupyterEvent\": \"custom.exercise_interaction\", \"data\": {\"outcomeType\": 1, \"valueTowardsCompletion\": 0.25, \"interactionType\": 1, \"questionType\": 4, \"questionId\": \"4_Q4\", \"learnToolsVersion\": \"0.3.4\", \"failureMessage\": \"\", \"exceptionClass\": \"\", \"trace\": \"\"}}, \"*\")"
      ],
      "text/plain": [
       "<IPython.core.display.Javascript object>"
      ]
     },
     "metadata": {},
     "output_type": "display_data"
    },
    {
     "data": {
      "text/markdown": [
       "<span style=\"color:#33cc33\">Correct:</span> \n",
       "\n",
       "The early stopping callback did stop the training once the network began overfitting. Moreover, by including `restore_best_weights` we still get to keep the model where validation loss was lowest."
      ],
      "text/plain": [
       "Correct: \n",
       "\n",
       "The early stopping callback did stop the training once the network began overfitting. Moreover, by including `restore_best_weights` we still get to keep the model where validation loss was lowest."
      ]
     },
     "metadata": {},
     "output_type": "display_data"
    }
   ],
   "source": [
    "# View the solution (Run this cell to receive credit!)\n",
    "q_4.check()"
   ]
  },
  {
   "cell_type": "markdown",
   "id": "093ed5c5",
   "metadata": {
    "papermill": {
     "duration": 0.033675,
     "end_time": "2023-07-18T12:49:32.656586",
     "exception": false,
     "start_time": "2023-07-18T12:49:32.622911",
     "status": "completed"
    },
    "tags": []
   },
   "source": [
    "If you like, try experimenting with `patience` and `min_delta` to see what difference it might make.\n",
    "\n",
    "# Keep Going #\n",
    "\n",
    "Move on to [**learn about a couple of special layers**](https://www.kaggle.com/ryanholbrook/dropout-and-batch-normalization): batch normalization and dropout."
   ]
  },
  {
   "cell_type": "markdown",
   "id": "8460ab4d",
   "metadata": {
    "papermill": {
     "duration": 0.03354,
     "end_time": "2023-07-18T12:49:32.724043",
     "exception": false,
     "start_time": "2023-07-18T12:49:32.690503",
     "status": "completed"
    },
    "tags": []
   },
   "source": [
    "---\n",
    "\n",
    "\n",
    "\n",
    "\n",
    "*Have questions or comments? Visit the [course discussion forum](https://www.kaggle.com/learn/intro-to-deep-learning/discussion) to chat with other learners.*"
   ]
  }
 ],
 "metadata": {
  "kernelspec": {
   "display_name": "Python 3",
   "language": "python",
   "name": "python3"
  },
  "language_info": {
   "codemirror_mode": {
    "name": "ipython",
    "version": 3
   },
   "file_extension": ".py",
   "mimetype": "text/x-python",
   "name": "python",
   "nbconvert_exporter": "python",
   "pygments_lexer": "ipython3",
   "version": "3.10.12"
  },
  "papermill": {
   "default_parameters": {},
   "duration": 54.636888,
   "end_time": "2023-07-18T12:49:35.274259",
   "environment_variables": {},
   "exception": null,
   "input_path": "__notebook__.ipynb",
   "output_path": "__notebook__.ipynb",
   "parameters": {},
   "start_time": "2023-07-18T12:48:40.637371",
   "version": "2.4.0"
  }
 },
 "nbformat": 4,
 "nbformat_minor": 5
}
