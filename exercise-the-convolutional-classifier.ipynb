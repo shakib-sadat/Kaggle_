{
 "cells": [
  {
   "cell_type": "markdown",
   "id": "d76c9fac",
   "metadata": {
    "papermill": {
     "duration": 0.006073,
     "end_time": "2023-07-19T14:22:30.561843",
     "exception": false,
     "start_time": "2023-07-19T14:22:30.555770",
     "status": "completed"
    },
    "tags": []
   },
   "source": [
    "**This notebook is an exercise in the [Computer Vision](https://www.kaggle.com/learn/computer-vision) course.  You can reference the tutorial at [this link](https://www.kaggle.com/ryanholbrook/the-convolutional-classifier).**\n",
    "\n",
    "---\n"
   ]
  },
  {
   "cell_type": "markdown",
   "id": "3097b2f6",
   "metadata": {
    "papermill": {
     "duration": 0.005266,
     "end_time": "2023-07-19T14:22:30.572757",
     "exception": false,
     "start_time": "2023-07-19T14:22:30.567491",
     "status": "completed"
    },
    "tags": []
   },
   "source": [
    "<blockquote style=\"margin-right:auto; margin-left:auto; background-color: #ebf9ff; padding: 1em; margin:24px;\">\n",
    "    <strong>Accelerate Training with a Kaggle GPU!</strong><br>\n",
    "Did you know Kaggle offers free time with a GPU accelerator? You can speed up training neural networks in this course by switching to <strong>GPU</strong> in the <em>Accelerator</em> option on the right. (It may already be turned on.) Two things to be aware of:\n",
    "<ul>\n",
    "<li>Changing the <em>Accelerator</em> option will cause the notebook session to restart. You'll need to rerun any setup code.\n",
    "<li>You can have only one GPU session at a time, so be sure to shut the notebook down after you've finished the exercise.\n",
    "</ul>\n",
    "</blockquote>"
   ]
  },
  {
   "cell_type": "markdown",
   "id": "e711c916",
   "metadata": {
    "papermill": {
     "duration": 0.00519,
     "end_time": "2023-07-19T14:22:30.583452",
     "exception": false,
     "start_time": "2023-07-19T14:22:30.578262",
     "status": "completed"
    },
    "tags": []
   },
   "source": [
    "# Introduction #\n",
    "\n",
    "In the tutorial, we saw how to build an image classifier by attaching a head of dense layers to a pretrained base. The base we used was from a model called **VGG16**. We saw that the VGG16 architecture was prone to overfitting this dataset. Over this course, you'll learn a number of ways you can improve upon this initial attempt.\n",
    "\n",
    "The first way you'll see is to use a base more appropriate to the dataset. The base this model comes from is called **InceptionV1** (also known as GoogLeNet). InceptionV1 was one of the early winners of the ImageNet competition. One of its successors, InceptionV4, is among the state of the art today.\n",
    "\n",
    "To get started, run the code cell below to set everything up."
   ]
  },
  {
   "cell_type": "code",
   "execution_count": 1,
   "id": "a4cd88e8",
   "metadata": {
    "execution": {
     "iopub.execute_input": "2023-07-19T14:22:30.596367Z",
     "iopub.status.busy": "2023-07-19T14:22:30.595642Z",
     "iopub.status.idle": "2023-07-19T14:22:45.570785Z",
     "shell.execute_reply": "2023-07-19T14:22:45.569822Z"
    },
    "lines_to_next_cell": 2,
    "papermill": {
     "duration": 14.984399,
     "end_time": "2023-07-19T14:22:45.573230",
     "exception": false,
     "start_time": "2023-07-19T14:22:30.588831",
     "status": "completed"
    },
    "tags": []
   },
   "outputs": [
    {
     "name": "stderr",
     "output_type": "stream",
     "text": [
      "/opt/conda/lib/python3.10/site-packages/scipy/__init__.py:146: UserWarning: A NumPy version >=1.16.5 and <1.23.0 is required for this version of SciPy (detected version 1.23.5\n",
      "  warnings.warn(f\"A NumPy version >={np_minversion} and <{np_maxversion}\"\n",
      "/opt/conda/lib/python3.10/site-packages/tensorflow_io/python/ops/__init__.py:98: UserWarning: unable to load libtensorflow_io_plugins.so: unable to open file: libtensorflow_io_plugins.so, from paths: ['/opt/conda/lib/python3.10/site-packages/tensorflow_io/python/ops/libtensorflow_io_plugins.so']\n",
      "caused by: ['/opt/conda/lib/python3.10/site-packages/tensorflow_io/python/ops/libtensorflow_io_plugins.so: undefined symbol: _ZN3tsl6StatusC1EN10tensorflow5error4CodeESt17basic_string_viewIcSt11char_traitsIcEENS_14SourceLocationE']\n",
      "  warnings.warn(f\"unable to load libtensorflow_io_plugins.so: {e}\")\n",
      "/opt/conda/lib/python3.10/site-packages/tensorflow_io/python/ops/__init__.py:104: UserWarning: file system plugins are not loaded: unable to open file: libtensorflow_io.so, from paths: ['/opt/conda/lib/python3.10/site-packages/tensorflow_io/python/ops/libtensorflow_io.so']\n",
      "caused by: ['/opt/conda/lib/python3.10/site-packages/tensorflow_io/python/ops/libtensorflow_io.so: undefined symbol: _ZTVN10tensorflow13GcsFileSystemE']\n",
      "  warnings.warn(f\"file system plugins are not loaded: {e}\")\n"
     ]
    },
    {
     "name": "stdout",
     "output_type": "stream",
     "text": [
      "Found 5117 files belonging to 2 classes.\n",
      "Found 5051 files belonging to 2 classes.\n"
     ]
    }
   ],
   "source": [
    "# Setup feedback system\n",
    "from learntools.core import binder\n",
    "binder.bind(globals())\n",
    "from learntools.computer_vision.ex1 import *\n",
    "\n",
    "# Imports\n",
    "import os, warnings\n",
    "import matplotlib.pyplot as plt\n",
    "from matplotlib import gridspec\n",
    "\n",
    "import numpy as np\n",
    "import tensorflow as tf\n",
    "from tensorflow.keras.preprocessing import image_dataset_from_directory\n",
    "\n",
    "# Reproducability\n",
    "def set_seed(seed=31415):\n",
    "    np.random.seed(seed)\n",
    "    tf.random.set_seed(seed)\n",
    "    os.environ['PYTHONHASHSEED'] = str(seed)\n",
    "    os.environ['TF_DETERMINISTIC_OPS'] = '1'\n",
    "set_seed()\n",
    "\n",
    "# Set Matplotlib defaults\n",
    "plt.rc('figure', autolayout=True)\n",
    "plt.rc('axes', labelweight='bold', labelsize='large',\n",
    "       titleweight='bold', titlesize=18, titlepad=10)\n",
    "plt.rc('image', cmap='magma')\n",
    "warnings.filterwarnings(\"ignore\") # to clean up output cells\n",
    "\n",
    "\n",
    "# Load training and validation sets\n",
    "ds_train_ = image_dataset_from_directory(\n",
    "    '../input/car-or-truck/train',\n",
    "    labels='inferred',\n",
    "    label_mode='binary',\n",
    "    image_size=[128, 128],\n",
    "    interpolation='nearest',\n",
    "    batch_size=64,\n",
    "    shuffle=True,\n",
    ")\n",
    "ds_valid_ = image_dataset_from_directory(\n",
    "    '../input/car-or-truck/valid',\n",
    "    labels='inferred',\n",
    "    label_mode='binary',\n",
    "    image_size=[128, 128],\n",
    "    interpolation='nearest',\n",
    "    batch_size=64,\n",
    "    shuffle=False,\n",
    ")\n",
    "\n",
    "# Data Pipeline\n",
    "def convert_to_float(image, label):\n",
    "    image = tf.image.convert_image_dtype(image, dtype=tf.float32)\n",
    "    return image, label\n",
    "\n",
    "AUTOTUNE = tf.data.experimental.AUTOTUNE\n",
    "ds_train = (\n",
    "    ds_train_\n",
    "    .map(convert_to_float)\n",
    "    .cache()\n",
    "    .prefetch(buffer_size=AUTOTUNE)\n",
    ")\n",
    "ds_valid = (\n",
    "    ds_valid_\n",
    "    .map(convert_to_float)\n",
    "    .cache()\n",
    "    .prefetch(buffer_size=AUTOTUNE)\n",
    ")\n"
   ]
  },
  {
   "cell_type": "markdown",
   "id": "031a556b",
   "metadata": {
    "papermill": {
     "duration": 0.005675,
     "end_time": "2023-07-19T14:22:45.585297",
     "exception": false,
     "start_time": "2023-07-19T14:22:45.579622",
     "status": "completed"
    },
    "tags": []
   },
   "source": [
    "The **InceptionV1** model pretrained on ImageNet is available in the [TensorFlow Hub](https://www.tensorflow.org/hub/) repository, but we'll load it from a local copy. Run this cell to load InceptionV1 for your base."
   ]
  },
  {
   "cell_type": "code",
   "execution_count": 2,
   "id": "5a31ce4e",
   "metadata": {
    "execution": {
     "iopub.execute_input": "2023-07-19T14:22:45.599979Z",
     "iopub.status.busy": "2023-07-19T14:22:45.598414Z",
     "iopub.status.idle": "2023-07-19T14:22:49.124521Z",
     "shell.execute_reply": "2023-07-19T14:22:49.123511Z"
    },
    "lines_to_next_cell": 0,
    "papermill": {
     "duration": 3.53641,
     "end_time": "2023-07-19T14:22:49.127568",
     "exception": false,
     "start_time": "2023-07-19T14:22:45.591158",
     "status": "completed"
    },
    "tags": []
   },
   "outputs": [],
   "source": [
    "import tensorflow_hub as hub\n",
    "\n",
    "pretrained_base = tf.keras.models.load_model(\n",
    "    '../input/cv-course-models/cv-course-models/inceptionv1'\n",
    ")"
   ]
  },
  {
   "cell_type": "markdown",
   "id": "36cd27be",
   "metadata": {
    "papermill": {
     "duration": 0.005808,
     "end_time": "2023-07-19T14:22:49.141590",
     "exception": false,
     "start_time": "2023-07-19T14:22:49.135782",
     "status": "completed"
    },
    "tags": []
   },
   "source": [
    "# 1) Define Pretrained Base #\n",
    "\n",
    "Now that you have a pretrained base to do our feature extraction, decide whether this base should be trainable or not."
   ]
  },
  {
   "cell_type": "code",
   "execution_count": 3,
   "id": "f02d16e0",
   "metadata": {
    "execution": {
     "iopub.execute_input": "2023-07-19T14:22:49.156616Z",
     "iopub.status.busy": "2023-07-19T14:22:49.156246Z",
     "iopub.status.idle": "2023-07-19T14:22:49.166423Z",
     "shell.execute_reply": "2023-07-19T14:22:49.165533Z"
    },
    "lines_to_next_cell": 0,
    "papermill": {
     "duration": 0.020858,
     "end_time": "2023-07-19T14:22:49.168622",
     "exception": false,
     "start_time": "2023-07-19T14:22:49.147764",
     "status": "completed"
    },
    "tags": []
   },
   "outputs": [
    {
     "data": {
      "application/javascript": [
       "parent.postMessage({\"jupyterEvent\": \"custom.exercise_interaction\", \"data\": {\"outcomeType\": 1, \"valueTowardsCompletion\": 0.25, \"interactionType\": 1, \"questionType\": 2, \"questionId\": \"1_Q1\", \"learnToolsVersion\": \"0.3.4\", \"failureMessage\": \"\", \"exceptionClass\": \"\", \"trace\": \"\"}}, \"*\")"
      ],
      "text/plain": [
       "<IPython.core.display.Javascript object>"
      ]
     },
     "metadata": {},
     "output_type": "display_data"
    },
    {
     "data": {
      "text/markdown": [
       "<span style=\"color:#33cc33\">Correct:</span> When doing transfer learning, it's generally not a good idea to retrain the entire base -- at least not without some care. The reason is that the random weights in the head will initially create large gradient updates, which propogate back into the base layers and destroy much of the pretraining. Using techniques known as **fine tuning** it's possible to further train the base on new data, but this requires some care to do well."
      ],
      "text/plain": [
       "Correct: When doing transfer learning, it's generally not a good idea to retrain the entire base -- at least not without some care. The reason is that the random weights in the head will initially create large gradient updates, which propogate back into the base layers and destroy much of the pretraining. Using techniques known as **fine tuning** it's possible to further train the base on new data, but this requires some care to do well."
      ]
     },
     "metadata": {},
     "output_type": "display_data"
    }
   ],
   "source": [
    "# YOUR_CODE_HERE\n",
    "pretrained_base.trainable = False\n",
    "\n",
    "# Check your answer\n",
    "q_1.check()"
   ]
  },
  {
   "cell_type": "code",
   "execution_count": 4,
   "id": "2bb112c9",
   "metadata": {
    "execution": {
     "iopub.execute_input": "2023-07-19T14:22:49.183490Z",
     "iopub.status.busy": "2023-07-19T14:22:49.181918Z",
     "iopub.status.idle": "2023-07-19T14:22:49.187163Z",
     "shell.execute_reply": "2023-07-19T14:22:49.186325Z"
    },
    "papermill": {
     "duration": 0.01439,
     "end_time": "2023-07-19T14:22:49.189116",
     "exception": false,
     "start_time": "2023-07-19T14:22:49.174726",
     "status": "completed"
    },
    "tags": []
   },
   "outputs": [],
   "source": [
    "# Lines below will give you a hint or solution code\n",
    "#q_1.hint()\n",
    "#q_1.solution()"
   ]
  },
  {
   "cell_type": "markdown",
   "id": "7f9fe7c5",
   "metadata": {
    "papermill": {
     "duration": 0.006065,
     "end_time": "2023-07-19T14:22:49.201473",
     "exception": false,
     "start_time": "2023-07-19T14:22:49.195408",
     "status": "completed"
    },
    "tags": []
   },
   "source": [
    "# 2) Attach Head #\n",
    "\n",
    "Now that the base is defined to do the feature extraction, create a head of `Dense` layers to perform the classification, following this diagram:\n",
    "\n",
    "<figure>\n",
    "<img src=\"https://storage.googleapis.com/kaggle-media/learn/images/i5VU7Ry.png\" alt=\"Diagram of the dense head.\">\n",
    "</figure>\n"
   ]
  },
  {
   "cell_type": "code",
   "execution_count": 5,
   "id": "5da7c797",
   "metadata": {
    "execution": {
     "iopub.execute_input": "2023-07-19T14:22:49.215305Z",
     "iopub.status.busy": "2023-07-19T14:22:49.214664Z",
     "iopub.status.idle": "2023-07-19T14:22:49.236711Z",
     "shell.execute_reply": "2023-07-19T14:22:49.235828Z"
    },
    "lines_to_next_cell": 0,
    "papermill": {
     "duration": 0.031014,
     "end_time": "2023-07-19T14:22:49.238761",
     "exception": false,
     "start_time": "2023-07-19T14:22:49.207747",
     "status": "completed"
    },
    "tags": []
   },
   "outputs": [
    {
     "data": {
      "application/javascript": [
       "parent.postMessage({\"jupyterEvent\": \"custom.exercise_interaction\", \"data\": {\"outcomeType\": 1, \"valueTowardsCompletion\": 0.25, \"interactionType\": 1, \"questionType\": 2, \"questionId\": \"2_Q2\", \"learnToolsVersion\": \"0.3.4\", \"failureMessage\": \"\", \"exceptionClass\": \"\", \"trace\": \"\"}}, \"*\")"
      ],
      "text/plain": [
       "<IPython.core.display.Javascript object>"
      ]
     },
     "metadata": {},
     "output_type": "display_data"
    },
    {
     "data": {
      "text/markdown": [
       "<span style=\"color:#33cc33\">Correct</span>"
      ],
      "text/plain": [
       "Correct"
      ]
     },
     "metadata": {},
     "output_type": "display_data"
    }
   ],
   "source": [
    "from tensorflow import keras\n",
    "from tensorflow.keras import layers\n",
    "\n",
    "model = keras.Sequential([\n",
    "    pretrained_base,\n",
    "    layers.Flatten(),\n",
    "    layers.Dense(6, activation = 'relu'),\n",
    "    layers.Dense(1, activation = 'sigmoid')\n",
    "])\n",
    "\n",
    "# Check your answer\n",
    "q_2.check()"
   ]
  },
  {
   "cell_type": "code",
   "execution_count": 6,
   "id": "6d672e81",
   "metadata": {
    "execution": {
     "iopub.execute_input": "2023-07-19T14:22:49.253310Z",
     "iopub.status.busy": "2023-07-19T14:22:49.252485Z",
     "iopub.status.idle": "2023-07-19T14:22:49.256772Z",
     "shell.execute_reply": "2023-07-19T14:22:49.255932Z"
    },
    "papermill": {
     "duration": 0.013564,
     "end_time": "2023-07-19T14:22:49.258733",
     "exception": false,
     "start_time": "2023-07-19T14:22:49.245169",
     "status": "completed"
    },
    "tags": []
   },
   "outputs": [],
   "source": [
    "# Lines below will give you a hint or solution code\n",
    "#q_2.hint()\n",
    "#q_2.solution()"
   ]
  },
  {
   "cell_type": "markdown",
   "id": "dd0fd086",
   "metadata": {
    "papermill": {
     "duration": 0.006395,
     "end_time": "2023-07-19T14:22:49.271518",
     "exception": false,
     "start_time": "2023-07-19T14:22:49.265123",
     "status": "completed"
    },
    "tags": []
   },
   "source": [
    "# 3) Train #\n",
    "\n",
    "Before training a model in Keras, you need to specify an *optimizer* to perform the gradient descent, a *loss function* to be minimized, and (optionally) any *performance metrics*. The optimization algorithm we'll use for this course is called [\"Adam\"](https://keras.io/api/optimizers/adam/), which generally performs well regardless of what kind of problem you're trying to solve.\n",
    "\n",
    "The loss and the metrics, however, need to match the kind of problem you're trying to solve. Our problem is a **binary classification** problem: `Car` coded as 0, and `Truck` coded as 1. Choose an appropriate loss and an appropriate accuracy metric for binary classification."
   ]
  },
  {
   "cell_type": "code",
   "execution_count": 7,
   "id": "eee62633",
   "metadata": {
    "execution": {
     "iopub.execute_input": "2023-07-19T14:22:49.287817Z",
     "iopub.status.busy": "2023-07-19T14:22:49.287463Z",
     "iopub.status.idle": "2023-07-19T14:22:49.315047Z",
     "shell.execute_reply": "2023-07-19T14:22:49.313937Z"
    },
    "lines_to_next_cell": 0,
    "papermill": {
     "duration": 0.03971,
     "end_time": "2023-07-19T14:22:49.318161",
     "exception": false,
     "start_time": "2023-07-19T14:22:49.278451",
     "status": "completed"
    },
    "tags": []
   },
   "outputs": [
    {
     "data": {
      "application/javascript": [
       "parent.postMessage({\"jupyterEvent\": \"custom.exercise_interaction\", \"data\": {\"outcomeType\": 1, \"valueTowardsCompletion\": 0.25, \"interactionType\": 1, \"questionType\": 2, \"questionId\": \"3_Q3\", \"learnToolsVersion\": \"0.3.4\", \"failureMessage\": \"\", \"exceptionClass\": \"\", \"trace\": \"\"}}, \"*\")"
      ],
      "text/plain": [
       "<IPython.core.display.Javascript object>"
      ]
     },
     "metadata": {},
     "output_type": "display_data"
    },
    {
     "data": {
      "text/markdown": [
       "<span style=\"color:#33cc33\">Correct</span>"
      ],
      "text/plain": [
       "Correct"
      ]
     },
     "metadata": {},
     "output_type": "display_data"
    }
   ],
   "source": [
    "# YOUR CODE HERE: what loss function should you use for a binary\n",
    "# classification problem? (Your answer for each should be a string.)\n",
    "optimizer = tf.keras.optimizers.Adam(epsilon=0.01)\n",
    "model.compile(\n",
    "    optimizer=optimizer,\n",
    "    loss = 'binary_crossentropy',\n",
    "    metrics=['binary_accuracy'],\n",
    ")\n",
    "\n",
    "# Check your answer\n",
    "q_3.check()"
   ]
  },
  {
   "cell_type": "code",
   "execution_count": 8,
   "id": "34f7edbf",
   "metadata": {
    "execution": {
     "iopub.execute_input": "2023-07-19T14:22:49.332927Z",
     "iopub.status.busy": "2023-07-19T14:22:49.332529Z",
     "iopub.status.idle": "2023-07-19T14:22:49.338025Z",
     "shell.execute_reply": "2023-07-19T14:22:49.337015Z"
    },
    "lines_to_next_cell": 0,
    "papermill": {
     "duration": 0.015402,
     "end_time": "2023-07-19T14:22:49.340289",
     "exception": false,
     "start_time": "2023-07-19T14:22:49.324887",
     "status": "completed"
    },
    "tags": []
   },
   "outputs": [],
   "source": [
    "# Lines below will give you a hint or solution code\n",
    "#q_3.hint()\n",
    "#q_3.solution()"
   ]
  },
  {
   "cell_type": "code",
   "execution_count": 9,
   "id": "922315dd",
   "metadata": {
    "execution": {
     "iopub.execute_input": "2023-07-19T14:22:49.355087Z",
     "iopub.status.busy": "2023-07-19T14:22:49.354732Z",
     "iopub.status.idle": "2023-07-19T14:25:17.941534Z",
     "shell.execute_reply": "2023-07-19T14:25:17.940435Z"
    },
    "papermill": {
     "duration": 148.596918,
     "end_time": "2023-07-19T14:25:17.943975",
     "exception": false,
     "start_time": "2023-07-19T14:22:49.347057",
     "status": "completed"
    },
    "tags": []
   },
   "outputs": [
    {
     "name": "stdout",
     "output_type": "stream",
     "text": [
      "Epoch 1/30\n",
      "80/80 [==============================] - 36s 298ms/step - loss: 0.6908 - binary_accuracy: 0.6039 - val_loss: 0.6565 - val_binary_accuracy: 0.7220\n",
      "Epoch 2/30\n",
      "80/80 [==============================] - 3s 42ms/step - loss: 0.6170 - binary_accuracy: 0.7332 - val_loss: 0.5822 - val_binary_accuracy: 0.8070\n",
      "Epoch 3/30\n",
      "80/80 [==============================] - 3s 41ms/step - loss: 0.5631 - binary_accuracy: 0.7932 - val_loss: 0.5506 - val_binary_accuracy: 0.8250\n",
      "Epoch 4/30\n",
      "80/80 [==============================] - 3s 41ms/step - loss: 0.5362 - binary_accuracy: 0.8169 - val_loss: 0.5283 - val_binary_accuracy: 0.8301\n",
      "Epoch 5/30\n",
      "80/80 [==============================] - 3s 42ms/step - loss: 0.5140 - binary_accuracy: 0.8319 - val_loss: 0.5096 - val_binary_accuracy: 0.8379\n",
      "Epoch 6/30\n",
      "80/80 [==============================] - 3s 41ms/step - loss: 0.4964 - binary_accuracy: 0.8384 - val_loss: 0.4944 - val_binary_accuracy: 0.8392\n",
      "Epoch 7/30\n",
      "80/80 [==============================] - 3s 41ms/step - loss: 0.4811 - binary_accuracy: 0.8472 - val_loss: 0.4832 - val_binary_accuracy: 0.8392\n",
      "Epoch 8/30\n",
      "80/80 [==============================] - 3s 41ms/step - loss: 0.4679 - binary_accuracy: 0.8497 - val_loss: 0.4714 - val_binary_accuracy: 0.8400\n",
      "Epoch 9/30\n",
      "80/80 [==============================] - 3s 42ms/step - loss: 0.4548 - binary_accuracy: 0.8550 - val_loss: 0.4606 - val_binary_accuracy: 0.8414\n",
      "Epoch 10/30\n",
      "80/80 [==============================] - 3s 42ms/step - loss: 0.4422 - binary_accuracy: 0.8591 - val_loss: 0.4519 - val_binary_accuracy: 0.8426\n",
      "Epoch 11/30\n",
      "80/80 [==============================] - 3s 41ms/step - loss: 0.4311 - binary_accuracy: 0.8624 - val_loss: 0.4439 - val_binary_accuracy: 0.8458\n",
      "Epoch 12/30\n",
      "80/80 [==============================] - 3s 42ms/step - loss: 0.4204 - binary_accuracy: 0.8657 - val_loss: 0.4344 - val_binary_accuracy: 0.8485\n",
      "Epoch 13/30\n",
      "80/80 [==============================] - 3s 42ms/step - loss: 0.4112 - binary_accuracy: 0.8675 - val_loss: 0.4279 - val_binary_accuracy: 0.8497\n",
      "Epoch 14/30\n",
      "80/80 [==============================] - 3s 41ms/step - loss: 0.4017 - binary_accuracy: 0.8710 - val_loss: 0.4216 - val_binary_accuracy: 0.8499\n",
      "Epoch 15/30\n",
      "80/80 [==============================] - 3s 41ms/step - loss: 0.3931 - binary_accuracy: 0.8736 - val_loss: 0.4149 - val_binary_accuracy: 0.8505\n",
      "Epoch 16/30\n",
      "80/80 [==============================] - 3s 41ms/step - loss: 0.3849 - binary_accuracy: 0.8751 - val_loss: 0.4082 - val_binary_accuracy: 0.8515\n",
      "Epoch 17/30\n",
      "80/80 [==============================] - 3s 41ms/step - loss: 0.3767 - binary_accuracy: 0.8782 - val_loss: 0.4036 - val_binary_accuracy: 0.8507\n",
      "Epoch 18/30\n",
      "80/80 [==============================] - 3s 42ms/step - loss: 0.3688 - binary_accuracy: 0.8792 - val_loss: 0.3989 - val_binary_accuracy: 0.8497\n",
      "Epoch 19/30\n",
      "80/80 [==============================] - 3s 41ms/step - loss: 0.3614 - binary_accuracy: 0.8827 - val_loss: 0.3948 - val_binary_accuracy: 0.8495\n",
      "Epoch 20/30\n",
      "80/80 [==============================] - 3s 41ms/step - loss: 0.3544 - binary_accuracy: 0.8829 - val_loss: 0.3907 - val_binary_accuracy: 0.8503\n",
      "Epoch 21/30\n",
      "80/80 [==============================] - 3s 41ms/step - loss: 0.3476 - binary_accuracy: 0.8851 - val_loss: 0.3883 - val_binary_accuracy: 0.8493\n",
      "Epoch 22/30\n",
      "80/80 [==============================] - 3s 41ms/step - loss: 0.3407 - binary_accuracy: 0.8882 - val_loss: 0.3846 - val_binary_accuracy: 0.8527\n",
      "Epoch 23/30\n",
      "80/80 [==============================] - 3s 40ms/step - loss: 0.3342 - binary_accuracy: 0.8892 - val_loss: 0.3806 - val_binary_accuracy: 0.8515\n",
      "Epoch 24/30\n",
      "80/80 [==============================] - 3s 40ms/step - loss: 0.3274 - binary_accuracy: 0.8919 - val_loss: 0.3778 - val_binary_accuracy: 0.8529\n",
      "Epoch 25/30\n",
      "80/80 [==============================] - 3s 40ms/step - loss: 0.3220 - binary_accuracy: 0.8937 - val_loss: 0.3761 - val_binary_accuracy: 0.8529\n",
      "Epoch 26/30\n",
      "80/80 [==============================] - 3s 40ms/step - loss: 0.3165 - binary_accuracy: 0.8956 - val_loss: 0.3737 - val_binary_accuracy: 0.8525\n",
      "Epoch 27/30\n",
      "80/80 [==============================] - 4s 54ms/step - loss: 0.3115 - binary_accuracy: 0.8978 - val_loss: 0.3715 - val_binary_accuracy: 0.8523\n",
      "Epoch 28/30\n",
      "80/80 [==============================] - 3s 41ms/step - loss: 0.3065 - binary_accuracy: 0.8986 - val_loss: 0.3715 - val_binary_accuracy: 0.8509\n",
      "Epoch 29/30\n",
      "80/80 [==============================] - 3s 41ms/step - loss: 0.3018 - binary_accuracy: 0.9009 - val_loss: 0.3694 - val_binary_accuracy: 0.8515\n",
      "Epoch 30/30\n",
      "80/80 [==============================] - 3s 41ms/step - loss: 0.2976 - binary_accuracy: 0.9037 - val_loss: 0.3674 - val_binary_accuracy: 0.8509\n"
     ]
    }
   ],
   "source": [
    "history = model.fit(\n",
    "    ds_train,\n",
    "    validation_data=ds_valid,\n",
    "    epochs=30,\n",
    ")"
   ]
  },
  {
   "cell_type": "markdown",
   "id": "21631045",
   "metadata": {
    "papermill": {
     "duration": 0.075256,
     "end_time": "2023-07-19T14:25:18.095780",
     "exception": false,
     "start_time": "2023-07-19T14:25:18.020524",
     "status": "completed"
    },
    "tags": []
   },
   "source": [
    "Run the cell below to plot the loss and metric curves for this training run."
   ]
  },
  {
   "cell_type": "code",
   "execution_count": 10,
   "id": "076c35e3",
   "metadata": {
    "execution": {
     "iopub.execute_input": "2023-07-19T14:25:18.247670Z",
     "iopub.status.busy": "2023-07-19T14:25:18.247325Z",
     "iopub.status.idle": "2023-07-19T14:25:19.192921Z",
     "shell.execute_reply": "2023-07-19T14:25:19.191509Z"
    },
    "papermill": {
     "duration": 1.024926,
     "end_time": "2023-07-19T14:25:19.195093",
     "exception": false,
     "start_time": "2023-07-19T14:25:18.170167",
     "status": "completed"
    },
    "tags": []
   },
   "outputs": [
    {
     "data": {
      "image/png": "[encoded data removed]",
      "text/plain": [
       "<Figure size 640x480 with 1 Axes>"
      ]
     },
     "metadata": {},
     "output_type": "display_data"
    },
    {
     "data": {
      "image/png": "[encoded data removed]",
      "text/plain": [
       "<Figure size 640x480 with 1 Axes>"
      ]
     },
     "metadata": {},
     "output_type": "display_data"
    }
   ],
   "source": [
    "import pandas as pd\n",
    "history_frame = pd.DataFrame(history.history)\n",
    "history_frame.loc[:, ['loss', 'val_loss']].plot()\n",
    "history_frame.loc[:, ['binary_accuracy', 'val_binary_accuracy']].plot();"
   ]
  },
  {
   "cell_type": "markdown",
   "id": "ca49855d",
   "metadata": {
    "papermill": {
     "duration": 0.076143,
     "end_time": "2023-07-19T14:25:19.348222",
     "exception": false,
     "start_time": "2023-07-19T14:25:19.272079",
     "status": "completed"
    },
    "tags": []
   },
   "source": [
    "# 4) Examine Loss and Accuracy #\n",
    "\n",
    "Do you notice a difference between these learning curves and the curves for VGG16 from the tutorial? What does this difference tell you about what this model (InceptionV2) learned compared to VGG16? Are there ways in which one is better than the other? Worse?\n",
    "\n",
    "After you've thought about it, run the cell below to see the answer."
   ]
  },
  {
   "cell_type": "code",
   "execution_count": 11,
   "id": "aefd0ca8",
   "metadata": {
    "execution": {
     "iopub.execute_input": "2023-07-19T14:25:19.501224Z",
     "iopub.status.busy": "2023-07-19T14:25:19.500855Z",
     "iopub.status.idle": "2023-07-19T14:25:19.509111Z",
     "shell.execute_reply": "2023-07-19T14:25:19.508068Z"
    },
    "papermill": {
     "duration": 0.087249,
     "end_time": "2023-07-19T14:25:19.511202",
     "exception": false,
     "start_time": "2023-07-19T14:25:19.423953",
     "status": "completed"
    },
    "tags": []
   },
   "outputs": [
    {
     "data": {
      "application/javascript": [
       "parent.postMessage({\"jupyterEvent\": \"custom.exercise_interaction\", \"data\": {\"outcomeType\": 1, \"valueTowardsCompletion\": 0.25, \"interactionType\": 1, \"questionType\": 4, \"questionId\": \"4_Q4\", \"learnToolsVersion\": \"0.3.4\", \"failureMessage\": \"\", \"exceptionClass\": \"\", \"trace\": \"\"}}, \"*\")"
      ],
      "text/plain": [
       "<IPython.core.display.Javascript object>"
      ]
     },
     "metadata": {},
     "output_type": "display_data"
    },
    {
     "data": {
      "text/markdown": [
       "<span style=\"color:#33cc33\">Correct:</span> \n",
       "\n",
       "That the training loss and validation loss stay fairly close is evidence that the model isn't just memorizing the training data, but rather learning general properties of the two classes. But, because this model converges at a loss greater than the VGG16 model, it's likely that it is underfitting some, and could benefit from some extra capacity.\n"
      ],
      "text/plain": [
       "Correct: \n",
       "\n",
       "That the training loss and validation loss stay fairly close is evidence that the model isn't just memorizing the training data, but rather learning general properties of the two classes. But, because this model converges at a loss greater than the VGG16 model, it's likely that it is underfitting some, and could benefit from some extra capacity."
      ]
     },
     "metadata": {},
     "output_type": "display_data"
    }
   ],
   "source": [
    "# View the solution (Run this code cell to receive credit!)\n",
    "q_4.check()"
   ]
  },
  {
   "cell_type": "markdown",
   "id": "c83117c9",
   "metadata": {
    "papermill": {
     "duration": 0.075976,
     "end_time": "2023-07-19T14:25:19.662727",
     "exception": false,
     "start_time": "2023-07-19T14:25:19.586751",
     "status": "completed"
    },
    "tags": []
   },
   "source": [
    "# Conclusion #\n",
    "\n",
    "In this first lesson, you learned the basics of **convolutional image classifiers**, that they consist of a **base** for extracting features from images, and a **head** which uses the features to decide the image's class. You also saw how to build a classifier with **transfer learning** on pretrained base. "
   ]
  },
  {
   "cell_type": "markdown",
   "id": "adca94a5",
   "metadata": {
    "papermill": {
     "duration": 0.076234,
     "end_time": "2023-07-19T14:25:19.815353",
     "exception": false,
     "start_time": "2023-07-19T14:25:19.739119",
     "status": "completed"
    },
    "tags": []
   },
   "source": [
    "# Keep Going #\n",
    "\n",
    "Move on to [**Lesson 2**](https://www.kaggle.com/ryanholbrook/convolution-and-relu) for a detailed look at how the base does this feature extraction. (It's really cool!)"
   ]
  },
  {
   "cell_type": "markdown",
   "id": "60bf703d",
   "metadata": {
    "papermill": {
     "duration": 0.077158,
     "end_time": "2023-07-19T14:25:19.970596",
     "exception": false,
     "start_time": "2023-07-19T14:25:19.893438",
     "status": "completed"
    },
    "tags": []
   },
   "source": [
    "---\n",
    "\n",
    "\n",
    "\n",
    "\n",
    "*Have questions or comments? Visit the [course discussion forum](https://www.kaggle.com/learn/computer-vision/discussion) to chat with other learners.*"
   ]
  }
 ],
 "metadata": {
  "kernelspec": {
   "display_name": "Python 3",
   "language": "python",
   "name": "python3"
  },
  "language_info": {
   "codemirror_mode": {
    "name": "ipython",
    "version": 3
   },
   "file_extension": ".py",
   "mimetype": "text/x-python",
   "name": "python",
   "nbconvert_exporter": "python",
   "pygments_lexer": "ipython3",
   "version": "3.10.12"
  },
  "papermill": {
   "default_parameters": {},
   "duration": 183.871516,
   "end_time": "2023-07-19T14:25:23.942054",
   "environment_variables": {},
   "exception": null,
   "input_path": "__notebook__.ipynb",
   "output_path": "__notebook__.ipynb",
   "parameters": {},
   "start_time": "2023-07-19T14:22:20.070538",
   "version": "2.4.0"
  }
 },
 "nbformat": 4,
 "nbformat_minor": 5
}
